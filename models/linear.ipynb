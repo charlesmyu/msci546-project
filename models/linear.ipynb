{
 "cells": [
  {
   "cell_type": "code",
   "execution_count": 131,
   "metadata": {},
   "outputs": [],
   "source": [
    "import math\n",
    "import pandas as pd\n",
    "from matplotlib import pyplot as plt\n",
    "from matplotlib import lines\n",
    "from sklearn import linear_model\n",
    "from sklearn.preprocessing import StandardScaler\n",
    "from sklearn.model_selection import train_test_split\n",
    "from sklearn.metrics import mean_squared_error"
   ]
  },
  {
   "attachments": {},
   "cell_type": "markdown",
   "metadata": {},
   "source": [
    "# Import & Preprocess Data"
   ]
  },
  {
   "cell_type": "code",
   "execution_count": 132,
   "metadata": {},
   "outputs": [
    {
     "data": {
      "text/html": [
       "<div>\n",
       "<style scoped>\n",
       "    .dataframe tbody tr th:only-of-type {\n",
       "        vertical-align: middle;\n",
       "    }\n",
       "\n",
       "    .dataframe tbody tr th {\n",
       "        vertical-align: top;\n",
       "    }\n",
       "\n",
       "    .dataframe thead th {\n",
       "        text-align: right;\n",
       "    }\n",
       "</style>\n",
       "<table border=\"1\" class=\"dataframe\">\n",
       "  <thead>\n",
       "    <tr style=\"text-align: right;\">\n",
       "      <th></th>\n",
       "      <th>birth_rate</th>\n",
       "      <th>median_age</th>\n",
       "      <th>median_hh_inc</th>\n",
       "      <th>microbusiness_density</th>\n",
       "      <th>pct_broadband</th>\n",
       "      <th>pct_college</th>\n",
       "      <th>pct_divorced</th>\n",
       "      <th>pct_employed_at_government</th>\n",
       "      <th>pct_employed_at_self_employed</th>\n",
       "      <th>pct_house_price_250k_500k</th>\n",
       "      <th>...</th>\n",
       "      <th>pct_housing_single_detached</th>\n",
       "      <th>pct_in_arts_industry</th>\n",
       "      <th>pct_in_finance_industry</th>\n",
       "      <th>pct_in_it_industry</th>\n",
       "      <th>pct_insured</th>\n",
       "      <th>pct_moved_from_abroad</th>\n",
       "      <th>pct_moved_within_state</th>\n",
       "      <th>pct_with_libarts_degree</th>\n",
       "      <th>pct_with_scieng_degree</th>\n",
       "      <th>total_population</th>\n",
       "    </tr>\n",
       "  </thead>\n",
       "  <tbody>\n",
       "    <tr>\n",
       "      <th>0</th>\n",
       "      <td>71</td>\n",
       "      <td>37.8</td>\n",
       "      <td>55317</td>\n",
       "      <td>2.986972</td>\n",
       "      <td>76.6</td>\n",
       "      <td>14.5</td>\n",
       "      <td>11.6</td>\n",
       "      <td>20.2</td>\n",
       "      <td>8.0</td>\n",
       "      <td>14.761905</td>\n",
       "      <td>...</td>\n",
       "      <td>72.9</td>\n",
       "      <td>8.941606</td>\n",
       "      <td>5.573988</td>\n",
       "      <td>1.3</td>\n",
       "      <td>91.2</td>\n",
       "      <td>0.2</td>\n",
       "      <td>4.9</td>\n",
       "      <td>23.9</td>\n",
       "      <td>29.4</td>\n",
       "      <td>55036</td>\n",
       "    </tr>\n",
       "    <tr>\n",
       "      <th>1</th>\n",
       "      <td>50</td>\n",
       "      <td>42.6</td>\n",
       "      <td>52562</td>\n",
       "      <td>7.370375</td>\n",
       "      <td>74.5</td>\n",
       "      <td>20.4</td>\n",
       "      <td>13.1</td>\n",
       "      <td>12.9</td>\n",
       "      <td>11.4</td>\n",
       "      <td>32.877493</td>\n",
       "      <td>...</td>\n",
       "      <td>73.9</td>\n",
       "      <td>10.622494</td>\n",
       "      <td>7.611112</td>\n",
       "      <td>1.4</td>\n",
       "      <td>89.2</td>\n",
       "      <td>0.3</td>\n",
       "      <td>2.1</td>\n",
       "      <td>20.0</td>\n",
       "      <td>27.3</td>\n",
       "      <td>203360</td>\n",
       "    </tr>\n",
       "    <tr>\n",
       "      <th>2</th>\n",
       "      <td>70</td>\n",
       "      <td>39.7</td>\n",
       "      <td>33368</td>\n",
       "      <td>1.046068</td>\n",
       "      <td>57.2</td>\n",
       "      <td>7.6</td>\n",
       "      <td>12.2</td>\n",
       "      <td>19.1</td>\n",
       "      <td>9.9</td>\n",
       "      <td>18.859649</td>\n",
       "      <td>...</td>\n",
       "      <td>57.2</td>\n",
       "      <td>6.859653</td>\n",
       "      <td>3.671998</td>\n",
       "      <td>0.5</td>\n",
       "      <td>87.7</td>\n",
       "      <td>0.2</td>\n",
       "      <td>3.4</td>\n",
       "      <td>18.8</td>\n",
       "      <td>22.9</td>\n",
       "      <td>26201</td>\n",
       "    </tr>\n",
       "    <tr>\n",
       "      <th>3</th>\n",
       "      <td>74</td>\n",
       "      <td>39.8</td>\n",
       "      <td>43404</td>\n",
       "      <td>1.278288</td>\n",
       "      <td>62.0</td>\n",
       "      <td>8.1</td>\n",
       "      <td>11.2</td>\n",
       "      <td>17.4</td>\n",
       "      <td>8.1</td>\n",
       "      <td>0.000000</td>\n",
       "      <td>...</td>\n",
       "      <td>66.8</td>\n",
       "      <td>3.855097</td>\n",
       "      <td>4.405825</td>\n",
       "      <td>1.2</td>\n",
       "      <td>91.9</td>\n",
       "      <td>0.4</td>\n",
       "      <td>7.3</td>\n",
       "      <td>20.6</td>\n",
       "      <td>22.6</td>\n",
       "      <td>22580</td>\n",
       "    </tr>\n",
       "    <tr>\n",
       "      <th>4</th>\n",
       "      <td>58</td>\n",
       "      <td>40.9</td>\n",
       "      <td>47412</td>\n",
       "      <td>1.559113</td>\n",
       "      <td>65.8</td>\n",
       "      <td>8.7</td>\n",
       "      <td>11.2</td>\n",
       "      <td>11.9</td>\n",
       "      <td>7.9</td>\n",
       "      <td>14.893617</td>\n",
       "      <td>...</td>\n",
       "      <td>71.3</td>\n",
       "      <td>4.260992</td>\n",
       "      <td>5.102900</td>\n",
       "      <td>1.3</td>\n",
       "      <td>89.0</td>\n",
       "      <td>0.2</td>\n",
       "      <td>2.6</td>\n",
       "      <td>20.6</td>\n",
       "      <td>22.9</td>\n",
       "      <td>57667</td>\n",
       "    </tr>\n",
       "  </tbody>\n",
       "</table>\n",
       "<p>5 rows × 22 columns</p>\n",
       "</div>"
      ],
      "text/plain": [
       "   birth_rate  median_age  median_hh_inc  microbusiness_density  \\\n",
       "0          71        37.8          55317               2.986972   \n",
       "1          50        42.6          52562               7.370375   \n",
       "2          70        39.7          33368               1.046068   \n",
       "3          74        39.8          43404               1.278288   \n",
       "4          58        40.9          47412               1.559113   \n",
       "\n",
       "   pct_broadband  pct_college  pct_divorced  pct_employed_at_government  \\\n",
       "0           76.6         14.5          11.6                        20.2   \n",
       "1           74.5         20.4          13.1                        12.9   \n",
       "2           57.2          7.6          12.2                        19.1   \n",
       "3           62.0          8.1          11.2                        17.4   \n",
       "4           65.8          8.7          11.2                        11.9   \n",
       "\n",
       "   pct_employed_at_self_employed  pct_house_price_250k_500k  ...  \\\n",
       "0                            8.0                  14.761905  ...   \n",
       "1                           11.4                  32.877493  ...   \n",
       "2                            9.9                  18.859649  ...   \n",
       "3                            8.1                   0.000000  ...   \n",
       "4                            7.9                  14.893617  ...   \n",
       "\n",
       "   pct_housing_single_detached  pct_in_arts_industry  pct_in_finance_industry  \\\n",
       "0                         72.9              8.941606                 5.573988   \n",
       "1                         73.9             10.622494                 7.611112   \n",
       "2                         57.2              6.859653                 3.671998   \n",
       "3                         66.8              3.855097                 4.405825   \n",
       "4                         71.3              4.260992                 5.102900   \n",
       "\n",
       "   pct_in_it_industry  pct_insured  pct_moved_from_abroad  \\\n",
       "0                 1.3         91.2                    0.2   \n",
       "1                 1.4         89.2                    0.3   \n",
       "2                 0.5         87.7                    0.2   \n",
       "3                 1.2         91.9                    0.4   \n",
       "4                 1.3         89.0                    0.2   \n",
       "\n",
       "   pct_moved_within_state  pct_with_libarts_degree  pct_with_scieng_degree  \\\n",
       "0                     4.9                     23.9                    29.4   \n",
       "1                     2.1                     20.0                    27.3   \n",
       "2                     3.4                     18.8                    22.9   \n",
       "3                     7.3                     20.6                    22.6   \n",
       "4                     2.6                     20.6                    22.9   \n",
       "\n",
       "   total_population  \n",
       "0             55036  \n",
       "1            203360  \n",
       "2             26201  \n",
       "3             22580  \n",
       "4             57667  \n",
       "\n",
       "[5 rows x 22 columns]"
      ]
     },
     "execution_count": 132,
     "metadata": {},
     "output_type": "execute_result"
    }
   ],
   "source": [
    "data = pd.read_csv('../data/master_reduced.csv')\n",
    "data = data[data.columns.difference(['year', 'data_year', 'cfips', 'county', 'state'])]\n",
    "data.head()"
   ]
  },
  {
   "cell_type": "code",
   "execution_count": 133,
   "metadata": {},
   "outputs": [],
   "source": [
    "# Scale all features\n",
    "scaler = StandardScaler()\n",
    "scaled_data = pd.DataFrame(data = scaler.fit_transform(data), columns = scaler.get_feature_names_out())\n",
    "scaled_data.head()\n",
    "\n",
    "y_mean = scaler.mean_[3]\n",
    "y_var = scaler.var_[3]"
   ]
  },
  {
   "cell_type": "code",
   "execution_count": 134,
   "metadata": {},
   "outputs": [],
   "source": [
    "X = scaled_data[scaled_data.columns.difference(['microbusiness_density'])]\n",
    "y = scaled_data.microbusiness_density\n",
    "\n",
    "X_train, X_test, y_train, y_test = train_test_split(X, y, test_size = 0.2, random_state = 100)\n",
    "y_test_unscaled = y_test.map(lambda z: z*math.sqrt(y_var) + y_mean)\n",
    "y_train_unscaled = y_train.map(lambda z: z*math.sqrt(y_var) + y_mean)"
   ]
  },
  {
   "attachments": {},
   "cell_type": "markdown",
   "metadata": {},
   "source": [
    "# Linear Regression"
   ]
  },
  {
   "cell_type": "code",
   "execution_count": 135,
   "metadata": {},
   "outputs": [
    {
     "name": "stdout",
     "output_type": "stream",
     "text": [
      "                          feature      coef\n",
      "0                      birth_rate -0.036586\n",
      "1                      median_age  0.038160\n",
      "2                   median_hh_inc  0.071698\n",
      "3                   pct_broadband  0.045620\n",
      "4                     pct_college  0.255350\n",
      "5                    pct_divorced  0.089576\n",
      "6      pct_employed_at_government -0.056550\n",
      "7   pct_employed_at_self_employed  0.045946\n",
      "8       pct_house_price_250k_500k  0.060005\n",
      "9      pct_house_price_500k_1mill  0.036822\n",
      "10        pct_house_price_gt1mill  0.081913\n",
      "11    pct_housing_single_detached -0.067359\n",
      "12           pct_in_arts_industry  0.100372\n",
      "13        pct_in_finance_industry  0.080522\n",
      "14             pct_in_it_industry  0.054872\n",
      "15                    pct_insured -0.076102\n",
      "16          pct_moved_from_abroad  0.029334\n",
      "17         pct_moved_within_state -0.030564\n",
      "18        pct_with_libarts_degree  0.053015\n",
      "19         pct_with_scieng_degree  0.034319\n",
      "20               total_population  0.051628\n",
      "Train R-squared: 0.3798907522158209\n",
      "Train RMSE (Unscaled): 3.5464601654303824\n"
     ]
    }
   ],
   "source": [
    "# Fit model, find coefficients\n",
    "linear = linear_model.LinearRegression().fit(X_train, y_train)\n",
    "linear_coefs = pd.DataFrame({'feature': X.columns, 'coef': linear.coef_})\n",
    "print(linear_coefs)\n",
    "\n",
    "# Find performance on train set\n",
    "print(\"Train R-squared: \" + str(linear.score(X_train, y_train)))\n",
    "\n",
    "linear_y_train_pred = linear.predict(X_train)\n",
    "linear_y_train_pred = linear_y_train_pred*math.sqrt(y_var) + y_mean\n",
    "print(\"Train RMSE (Unscaled): \" + str(mean_squared_error(y_train_unscaled, linear_y_train_pred, squared=False)))"
   ]
  },
  {
   "cell_type": "code",
   "execution_count": 136,
   "metadata": {},
   "outputs": [
    {
     "name": "stdout",
     "output_type": "stream",
     "text": [
      "Test R-squared: 0.3288879994522039\n",
      "Test RMSE (Unscaled): 4.46177954234157\n"
     ]
    },
    {
     "data": {
      "text/plain": [
       "<matplotlib.collections.PathCollection at 0x1c7e3275850>"
      ]
     },
     "execution_count": 136,
     "metadata": {},
     "output_type": "execute_result"
    },
    {
     "data": {
      "image/png": "[encoded data removed]",
      "text/plain": [
       "<Figure size 640x480 with 1 Axes>"
      ]
     },
     "metadata": {},
     "output_type": "display_data"
    }
   ],
   "source": [
    "# Find performance on test set\n",
    "print(\"Test R-squared: \" + str(linear.score(X_test, y_test)))\n",
    "\n",
    "linear_y_test_pred = linear.predict(X_test)\n",
    "linear_y_test_pred = linear_y_test_pred*math.sqrt(y_var) + y_mean\n",
    "linear_test_rmse = mean_squared_error(y_test_unscaled, linear_y_test_pred, squared=False)\n",
    "print(\"Test RMSE (Unscaled): \" + str(linear_test_rmse))\n",
    "\n",
    "# Plot result differences (just to see)\n",
    "linear_test_results = pd.DataFrame({'y_pred': linear_y_test_pred, 'y_true': y_test_unscaled})\n",
    "linear_fig, linear_plot = plt.subplots()\n",
    "linear_plot.plot(range(25), color='black')\n",
    "linear_plot.scatter(linear_test_results.y_true, linear_test_results.y_pred, marker='x')"
   ]
  },
  {
   "attachments": {},
   "cell_type": "markdown",
   "metadata": {},
   "source": [
    "# L1 Penalty (Lasso Regression)"
   ]
  },
  {
   "cell_type": "code",
   "execution_count": 137,
   "metadata": {},
   "outputs": [
    {
     "name": "stdout",
     "output_type": "stream",
     "text": [
      "Alpha selected: 0.0004962574425422115\n",
      "                          feature      coef\n",
      "0                      birth_rate -0.036233\n",
      "1                      median_age  0.037499\n",
      "2                   median_hh_inc  0.071183\n",
      "3                   pct_broadband  0.045155\n",
      "4                     pct_college  0.255580\n",
      "5                    pct_divorced  0.088965\n",
      "6      pct_employed_at_government -0.056076\n",
      "7   pct_employed_at_self_employed  0.045355\n",
      "8       pct_house_price_250k_500k  0.059992\n",
      "9      pct_house_price_500k_1mill  0.036855\n",
      "10        pct_house_price_gt1mill  0.081835\n",
      "11    pct_housing_single_detached -0.066788\n",
      "12           pct_in_arts_industry  0.100383\n",
      "13        pct_in_finance_industry  0.080315\n",
      "14             pct_in_it_industry  0.054687\n",
      "15                    pct_insured -0.075025\n",
      "16          pct_moved_from_abroad  0.028903\n",
      "17         pct_moved_within_state -0.030090\n",
      "18        pct_with_libarts_degree  0.052665\n",
      "19         pct_with_scieng_degree  0.034224\n",
      "20               total_population  0.051591\n",
      "Train R-squared: 0.3798870144825578\n",
      "Train RMSE (Unscaled): 3.5464708536294367\n"
     ]
    }
   ],
   "source": [
    "# Fit model, find coefficients\n",
    "lasso = linear_model.LassoCV().fit(X_train, y_train)\n",
    "print(\"Alpha selected: \" + str(lasso.alpha_))\n",
    "lasso_coefs = pd.DataFrame({'feature': X.columns, 'coef': lasso.coef_})\n",
    "print(lasso_coefs)\n",
    "\n",
    "# Find performance on train set\n",
    "print(\"Train R-squared: \" + str(lasso.score(X_train, y_train)))\n",
    "\n",
    "lasso_y_train_pred = lasso.predict(X_train)\n",
    "lasso_y_train_pred = lasso_y_train_pred*math.sqrt(y_var) + y_mean\n",
    "print(\"Train RMSE (Unscaled): \" + str(mean_squared_error(y_train_unscaled, lasso_y_train_pred, squared=False)))"
   ]
  },
  {
   "cell_type": "code",
   "execution_count": 138,
   "metadata": {},
   "outputs": [
    {
     "name": "stdout",
     "output_type": "stream",
     "text": [
      "Test R-squared: 0.3288624562765452\n",
      "Test RMSE (Unscaled): 4.461864451368749\n"
     ]
    },
    {
     "data": {
      "text/plain": [
       "<matplotlib.collections.PathCollection at 0x1c7e1a22cd0>"
      ]
     },
     "execution_count": 138,
     "metadata": {},
     "output_type": "execute_result"
    },
    {
     "data": {
      "image/png": "[encoded data removed]",
      "text/plain": [
       "<Figure size 640x480 with 1 Axes>"
      ]
     },
     "metadata": {},
     "output_type": "display_data"
    }
   ],
   "source": [
    "# Find performance on test set\n",
    "print(\"Test R-squared: \" + str(lasso.score(X_test, y_test)))\n",
    "\n",
    "lasso_y_test_pred = lasso.predict(X_test)\n",
    "lasso_y_test_pred = lasso_y_test_pred*math.sqrt(y_var) + y_mean\n",
    "lasso_test_rmse = mean_squared_error(y_test_unscaled, lasso_y_test_pred, squared=False)\n",
    "print(\"Test RMSE (Unscaled): \" + str(lasso_test_rmse))\n",
    "\n",
    "# Plot result differences (just to see)\n",
    "lasso_test_results = pd.DataFrame({'y_pred': lasso_y_test_pred, 'y_true': y_test_unscaled})\n",
    "lasso_fig, lasso_plot = plt.subplots()\n",
    "lasso_plot.plot(range(25), color='black')\n",
    "lasso_plot.scatter(lasso_test_results.y_true, lasso_test_results.y_pred, marker='x')"
   ]
  },
  {
   "attachments": {},
   "cell_type": "markdown",
   "metadata": {},
   "source": [
    "# L2 Penalty (Ridge Regression)"
   ]
  },
  {
   "cell_type": "code",
   "execution_count": 139,
   "metadata": {},
   "outputs": [
    {
     "name": "stdout",
     "output_type": "stream",
     "text": [
      "Alpha selected: 10.0\n",
      "                          feature      coef\n",
      "0                      birth_rate -0.036603\n",
      "1                      median_age  0.038030\n",
      "2                   median_hh_inc  0.071742\n",
      "3                   pct_broadband  0.045743\n",
      "4                     pct_college  0.254659\n",
      "5                    pct_divorced  0.089390\n",
      "6      pct_employed_at_government -0.056463\n",
      "7   pct_employed_at_self_employed  0.046026\n",
      "8       pct_house_price_250k_500k  0.060017\n",
      "9      pct_house_price_500k_1mill  0.036892\n",
      "10        pct_house_price_gt1mill  0.081891\n",
      "11    pct_housing_single_detached -0.067297\n",
      "12           pct_in_arts_industry  0.100422\n",
      "13        pct_in_finance_industry  0.080632\n",
      "14             pct_in_it_industry  0.054911\n",
      "15                    pct_insured -0.075888\n",
      "16          pct_moved_from_abroad  0.029351\n",
      "17         pct_moved_within_state -0.030547\n",
      "18        pct_with_libarts_degree  0.053032\n",
      "19         pct_with_scieng_degree  0.034429\n",
      "20               total_population  0.051638\n",
      "Train R-squared: 0.3798905471761227\n",
      "Train RMSE (Unscaled): 3.546460751750506\n"
     ]
    }
   ],
   "source": [
    "# Fit model, find coefficients\n",
    "ridge = linear_model.RidgeCV().fit(X_train, y_train)\n",
    "print(\"Alpha selected: \" + str(ridge.alpha_))\n",
    "ridge_coefs = pd.DataFrame({'feature': X.columns, 'coef': ridge.coef_})\n",
    "print(ridge_coefs)\n",
    "\n",
    "# Find performance on train set\n",
    "print(\"Train R-squared: \" + str(ridge.score(X_train, y_train)))\n",
    "\n",
    "ridge_y_train_pred = ridge.predict(X_train)\n",
    "ridge_y_train_pred = ridge_y_train_pred*math.sqrt(y_var) + y_mean\n",
    "print(\"Train RMSE (Unscaled): \" + str(mean_squared_error(y_train_unscaled, ridge_y_train_pred, squared=False)))"
   ]
  },
  {
   "cell_type": "code",
   "execution_count": 140,
   "metadata": {},
   "outputs": [
    {
     "name": "stdout",
     "output_type": "stream",
     "text": [
      "Test R-squared: 0.3288770390696997\n",
      "Test RMSE (Unscaled): 4.461815976357599\n"
     ]
    },
    {
     "data": {
      "text/plain": [
       "<matplotlib.collections.PathCollection at 0x1c7e1a31810>"
      ]
     },
     "execution_count": 140,
     "metadata": {},
     "output_type": "execute_result"
    },
    {
     "data": {
      "image/png": "[encoded data removed]",
      "text/plain": [
       "<Figure size 640x480 with 1 Axes>"
      ]
     },
     "metadata": {},
     "output_type": "display_data"
    }
   ],
   "source": [
    "# Find performance on test set\n",
    "print(\"Test R-squared: \" + str(ridge.score(X_test, y_test)))\n",
    "\n",
    "ridge_y_test_pred = ridge.predict(X_test)\n",
    "ridge_y_test_pred = ridge_y_test_pred*math.sqrt(y_var) + y_mean\n",
    "ridge_test_rmse = mean_squared_error(y_test_unscaled, ridge_y_test_pred, squared=False)\n",
    "print(\"Test RMSE (Unscaled): \" + str(ridge_test_rmse))\n",
    "\n",
    "# Plot result differences (just to see)\n",
    "ridge_test_results = pd.DataFrame({'y_pred': ridge_y_test_pred, 'y_true': y_test_unscaled})\n",
    "ridge_fig, ridge_plot = plt.subplots()\n",
    "ridge_plot.plot(range(25), color='black')\n",
    "ridge_plot.scatter(ridge_test_results.y_true, ridge_test_results.y_pred, marker='x')"
   ]
  },
  {
   "attachments": {},
   "cell_type": "markdown",
   "metadata": {},
   "source": [
    "# L1 & L2 Penalties (ElasticNet)"
   ]
  },
  {
   "cell_type": "code",
   "execution_count": 141,
   "metadata": {},
   "outputs": [
    {
     "name": "stdout",
     "output_type": "stream",
     "text": [
      "Alpha selected: 0.0009925148850844232\n",
      "                          feature      coef\n",
      "0                      birth_rate -0.036241\n",
      "1                      median_age  0.037435\n",
      "2                   median_hh_inc  0.071205\n",
      "3                   pct_broadband  0.045217\n",
      "4                     pct_college  0.255237\n",
      "5                    pct_divorced  0.088873\n",
      "6      pct_employed_at_government -0.056034\n",
      "7   pct_employed_at_self_employed  0.045395\n",
      "8       pct_house_price_250k_500k  0.059998\n",
      "9      pct_house_price_500k_1mill  0.036890\n",
      "10        pct_house_price_gt1mill  0.081824\n",
      "11    pct_housing_single_detached -0.066757\n",
      "12           pct_in_arts_industry  0.100408\n",
      "13        pct_in_finance_industry  0.080369\n",
      "14             pct_in_it_industry  0.054707\n",
      "15                    pct_insured -0.074920\n",
      "16          pct_moved_from_abroad  0.028912\n",
      "17         pct_moved_within_state -0.030082\n",
      "18        pct_with_libarts_degree  0.052673\n",
      "19         pct_with_scieng_degree  0.034278\n",
      "20               total_population  0.051596\n",
      "Train R-squared: 0.37988658983015045\n",
      "Train RMSE (Unscaled): 3.54647206793809\n"
     ]
    }
   ],
   "source": [
    "# Fit model, find coefficients\n",
    "en = linear_model.ElasticNetCV().fit(X_train, y_train)\n",
    "print(\"Alpha selected: \" + str(en.alpha_))\n",
    "en_coefs = pd.DataFrame({'feature': X.columns, 'coef': en.coef_})\n",
    "print(en_coefs)\n",
    "\n",
    "# Find performance on train set\n",
    "print(\"Train R-squared: \" + str(en.score(X_train, y_train)))\n",
    "\n",
    "en_y_train_pred = en.predict(X_train)\n",
    "en_y_train_pred = en_y_train_pred*math.sqrt(y_var) + y_mean\n",
    "print(\"Train RMSE (Unscaled): \" + str(mean_squared_error(y_train_unscaled, en_y_train_pred, squared=False)))"
   ]
  },
  {
   "cell_type": "code",
   "execution_count": 142,
   "metadata": {},
   "outputs": [
    {
     "name": "stdout",
     "output_type": "stream",
     "text": [
      "Test R-squared: 0.32885673815528116\n",
      "Test RMSE (Unscaled): 4.461883458968527\n"
     ]
    },
    {
     "data": {
      "text/plain": [
       "<matplotlib.collections.PathCollection at 0x1c7e2fee790>"
      ]
     },
     "execution_count": 142,
     "metadata": {},
     "output_type": "execute_result"
    },
    {
     "data": {
      "image/png": "[encoded data removed]",
      "text/plain": [
       "<Figure size 640x480 with 1 Axes>"
      ]
     },
     "metadata": {},
     "output_type": "display_data"
    }
   ],
   "source": [
    "# Find performance on test set\n",
    "print(\"Test R-squared: \" + str(en.score(X_test, y_test)))\n",
    "\n",
    "en_y_test_pred = en.predict(X_test)\n",
    "en_y_test_pred = en_y_test_pred*math.sqrt(y_var) + y_mean\n",
    "en_test_rmse = mean_squared_error(y_test_unscaled, en_y_test_pred, squared=False)\n",
    "print(\"Test RMSE (Unscaled): \" + str(en_test_rmse))\n",
    "\n",
    "# Plot result differences (just to see)\n",
    "en_test_results = pd.DataFrame({'y_pred': en_y_test_pred, 'y_true': y_test_unscaled})\n",
    "en_fig, en_plot = plt.subplots()\n",
    "en_plot.plot(range(25), color='black')\n",
    "en_plot.scatter(en_test_results.y_true, en_test_results.y_pred, marker='x')"
   ]
  },
  {
   "attachments": {},
   "cell_type": "markdown",
   "metadata": {},
   "source": [
    "# Errors"
   ]
  },
  {
   "cell_type": "code",
   "execution_count": 149,
   "metadata": {},
   "outputs": [
    {
     "data": {
      "text/plain": [
       "type     Linear\n",
       "rmse    4.46178\n",
       "Name: 0, dtype: object"
      ]
     },
     "execution_count": 149,
     "metadata": {},
     "output_type": "execute_result"
    }
   ],
   "source": [
    "results = pd.DataFrame({'type': ['Linear', 'Ridge', 'Lasso', 'ElasticNet'], 'rmse': [linear_test_rmse, ridge_test_rmse, lasso_test_rmse, en_test_rmse]})\n",
    "results.loc[results['rmse'].idxmin()]"
   ]
  },
  {
   "cell_type": "code",
   "execution_count": 148,
   "metadata": {},
   "outputs": [
    {
     "data": {
      "text/html": [
       "<div>\n",
       "<style scoped>\n",
       "    .dataframe tbody tr th:only-of-type {\n",
       "        vertical-align: middle;\n",
       "    }\n",
       "\n",
       "    .dataframe tbody tr th {\n",
       "        vertical-align: top;\n",
       "    }\n",
       "\n",
       "    .dataframe thead th {\n",
       "        text-align: right;\n",
       "    }\n",
       "</style>\n",
       "<table border=\"1\" class=\"dataframe\">\n",
       "  <thead>\n",
       "    <tr style=\"text-align: right;\">\n",
       "      <th></th>\n",
       "      <th>type</th>\n",
       "      <th>rmse</th>\n",
       "    </tr>\n",
       "  </thead>\n",
       "  <tbody>\n",
       "    <tr>\n",
       "      <th>0</th>\n",
       "      <td>Linear</td>\n",
       "      <td>4.461780</td>\n",
       "    </tr>\n",
       "    <tr>\n",
       "      <th>1</th>\n",
       "      <td>Ridge</td>\n",
       "      <td>4.461816</td>\n",
       "    </tr>\n",
       "    <tr>\n",
       "      <th>2</th>\n",
       "      <td>Lasso</td>\n",
       "      <td>4.461864</td>\n",
       "    </tr>\n",
       "    <tr>\n",
       "      <th>3</th>\n",
       "      <td>ElasticNet</td>\n",
       "      <td>4.461883</td>\n",
       "    </tr>\n",
       "  </tbody>\n",
       "</table>\n",
       "</div>"
      ],
      "text/plain": [
       "         type      rmse\n",
       "0      Linear  4.461780\n",
       "1       Ridge  4.461816\n",
       "2       Lasso  4.461864\n",
       "3  ElasticNet  4.461883"
      ]
     },
     "execution_count": 148,
     "metadata": {},
     "output_type": "execute_result"
    }
   ],
   "source": [
    "results"
   ]
  }
 ],
 "metadata": {
  "kernelspec": {
   "display_name": "Python 3",
   "language": "python",
   "name": "python3"
  },
  "language_info": {
   "codemirror_mode": {
    "name": "ipython",
    "version": 3
   },
   "file_extension": ".py",
   "mimetype": "text/x-python",
   "name": "python",
   "nbconvert_exporter": "python",
   "pygments_lexer": "ipython3",
   "version": "3.11.0"
  },
  "orig_nbformat": 4,
  "vscode": {
   "interpreter": {
    "hash": "c261aea317cc0286b3b3261fbba9abdec21eaa57589985bb7a274bf54d6cc0a7"
   }
  }
 },
 "nbformat": 4,
 "nbformat_minor": 2
}
