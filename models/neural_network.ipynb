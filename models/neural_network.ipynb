{
 "cells": [
  {
   "attachments": {},
   "cell_type": "markdown",
   "metadata": {},
   "source": [
    "# Install PyTorch Lightning"
   ]
  },
  {
   "cell_type": "code",
   "execution_count": 86,
   "metadata": {},
   "outputs": [
    {
     "name": "stdout",
     "output_type": "stream",
     "text": [
      "Requirement already satisfied: pytorch_lightning~=1.9 in /home/fbarnard/git-projects/msci546-project/.venv/lib/python3.10/site-packages (1.9.4)\n",
      "Requirement already satisfied: matplotlib in /home/fbarnard/git-projects/msci546-project/.venv/lib/python3.10/site-packages (3.7.1)\n",
      "Requirement already satisfied: pandas in /home/fbarnard/git-projects/msci546-project/.venv/lib/python3.10/site-packages (1.5.3)\n",
      "Requirement already satisfied: torchvision in /home/fbarnard/git-projects/msci546-project/.venv/lib/python3.10/site-packages (0.15.1)\n",
      "Requirement already satisfied: tensorboard in /home/fbarnard/git-projects/msci546-project/.venv/lib/python3.10/site-packages (2.12.0)\n",
      "Requirement already satisfied: typing-extensions>=4.0.0 in /home/fbarnard/git-projects/msci546-project/.venv/lib/python3.10/site-packages (from pytorch_lightning~=1.9) (4.5.0)\n",
      "Requirement already satisfied: torch>=1.10.0 in /home/fbarnard/git-projects/msci546-project/.venv/lib/python3.10/site-packages (from pytorch_lightning~=1.9) (2.0.0)\n",
      "Requirement already satisfied: tqdm>=4.57.0 in /home/fbarnard/git-projects/msci546-project/.venv/lib/python3.10/site-packages (from pytorch_lightning~=1.9) (4.65.0)\n",
      "Requirement already satisfied: lightning-utilities>=0.6.0.post0 in /home/fbarnard/git-projects/msci546-project/.venv/lib/python3.10/site-packages (from pytorch_lightning~=1.9) (0.8.0)\n",
      "Requirement already satisfied: PyYAML>=5.4 in /home/fbarnard/git-projects/msci546-project/.venv/lib/python3.10/site-packages (from pytorch_lightning~=1.9) (6.0)\n",
      "Requirement already satisfied: numpy>=1.17.2 in /home/fbarnard/git-projects/msci546-project/.venv/lib/python3.10/site-packages (from pytorch_lightning~=1.9) (1.24.2)\n",
      "Requirement already satisfied: fsspec[http]>2021.06.0 in /home/fbarnard/git-projects/msci546-project/.venv/lib/python3.10/site-packages (from pytorch_lightning~=1.9) (2023.3.0)\n",
      "Requirement already satisfied: packaging>=17.1 in /home/fbarnard/git-projects/msci546-project/.venv/lib/python3.10/site-packages (from pytorch_lightning~=1.9) (23.0)\n",
      "Requirement already satisfied: torchmetrics>=0.7.0 in /home/fbarnard/git-projects/msci546-project/.venv/lib/python3.10/site-packages (from pytorch_lightning~=1.9) (0.11.4)\n",
      "Requirement already satisfied: pillow>=6.2.0 in /home/fbarnard/git-projects/msci546-project/.venv/lib/python3.10/site-packages (from matplotlib) (9.4.0)\n",
      "Requirement already satisfied: fonttools>=4.22.0 in /home/fbarnard/git-projects/msci546-project/.venv/lib/python3.10/site-packages (from matplotlib) (4.39.0)\n",
      "Requirement already satisfied: cycler>=0.10 in /home/fbarnard/git-projects/msci546-project/.venv/lib/python3.10/site-packages (from matplotlib) (0.11.0)\n",
      "Requirement already satisfied: pyparsing>=2.3.1 in /home/fbarnard/git-projects/msci546-project/.venv/lib/python3.10/site-packages (from matplotlib) (3.0.9)\n",
      "Requirement already satisfied: contourpy>=1.0.1 in /home/fbarnard/git-projects/msci546-project/.venv/lib/python3.10/site-packages (from matplotlib) (1.0.7)\n",
      "Requirement already satisfied: python-dateutil>=2.7 in /home/fbarnard/git-projects/msci546-project/.venv/lib/python3.10/site-packages (from matplotlib) (2.8.2)\n",
      "Requirement already satisfied: kiwisolver>=1.0.1 in /home/fbarnard/git-projects/msci546-project/.venv/lib/python3.10/site-packages (from matplotlib) (1.4.4)\n",
      "Requirement already satisfied: pytz>=2020.1 in /home/fbarnard/git-projects/msci546-project/.venv/lib/python3.10/site-packages (from pandas) (2022.7.1)\n",
      "Requirement already satisfied: requests in /home/fbarnard/git-projects/msci546-project/.venv/lib/python3.10/site-packages (from torchvision) (2.28.2)\n",
      "Requirement already satisfied: nvidia-cuda-cupti-cu11==11.7.101 in /home/fbarnard/git-projects/msci546-project/.venv/lib/python3.10/site-packages (from torch>=1.10.0->pytorch_lightning~=1.9) (11.7.101)\n",
      "Requirement already satisfied: nvidia-cublas-cu11==11.10.3.66 in /home/fbarnard/git-projects/msci546-project/.venv/lib/python3.10/site-packages (from torch>=1.10.0->pytorch_lightning~=1.9) (11.10.3.66)\n",
      "Requirement already satisfied: nvidia-cudnn-cu11==8.5.0.96 in /home/fbarnard/git-projects/msci546-project/.venv/lib/python3.10/site-packages (from torch>=1.10.0->pytorch_lightning~=1.9) (8.5.0.96)\n",
      "Requirement already satisfied: sympy in /home/fbarnard/git-projects/msci546-project/.venv/lib/python3.10/site-packages (from torch>=1.10.0->pytorch_lightning~=1.9) (1.11.1)\n",
      "Requirement already satisfied: nvidia-cuda-nvrtc-cu11==11.7.99 in /home/fbarnard/git-projects/msci546-project/.venv/lib/python3.10/site-packages (from torch>=1.10.0->pytorch_lightning~=1.9) (11.7.99)\n",
      "Requirement already satisfied: nvidia-cusparse-cu11==11.7.4.91 in /home/fbarnard/git-projects/msci546-project/.venv/lib/python3.10/site-packages (from torch>=1.10.0->pytorch_lightning~=1.9) (11.7.4.91)\n",
      "Requirement already satisfied: filelock in /home/fbarnard/git-projects/msci546-project/.venv/lib/python3.10/site-packages (from torch>=1.10.0->pytorch_lightning~=1.9) (3.9.1)\n",
      "Requirement already satisfied: nvidia-cufft-cu11==10.9.0.58 in /home/fbarnard/git-projects/msci546-project/.venv/lib/python3.10/site-packages (from torch>=1.10.0->pytorch_lightning~=1.9) (10.9.0.58)\n",
      "Requirement already satisfied: nvidia-cuda-runtime-cu11==11.7.99 in /home/fbarnard/git-projects/msci546-project/.venv/lib/python3.10/site-packages (from torch>=1.10.0->pytorch_lightning~=1.9) (11.7.99)\n",
      "Requirement already satisfied: nvidia-curand-cu11==10.2.10.91 in /home/fbarnard/git-projects/msci546-project/.venv/lib/python3.10/site-packages (from torch>=1.10.0->pytorch_lightning~=1.9) (10.2.10.91)\n",
      "Requirement already satisfied: nvidia-cusolver-cu11==11.4.0.1 in /home/fbarnard/git-projects/msci546-project/.venv/lib/python3.10/site-packages (from torch>=1.10.0->pytorch_lightning~=1.9) (11.4.0.1)\n",
      "Requirement already satisfied: nvidia-nccl-cu11==2.14.3 in /home/fbarnard/git-projects/msci546-project/.venv/lib/python3.10/site-packages (from torch>=1.10.0->pytorch_lightning~=1.9) (2.14.3)\n",
      "Requirement already satisfied: nvidia-nvtx-cu11==11.7.91 in /home/fbarnard/git-projects/msci546-project/.venv/lib/python3.10/site-packages (from torch>=1.10.0->pytorch_lightning~=1.9) (11.7.91)\n",
      "Requirement already satisfied: triton==2.0.0 in /home/fbarnard/git-projects/msci546-project/.venv/lib/python3.10/site-packages (from torch>=1.10.0->pytorch_lightning~=1.9) (2.0.0)\n",
      "Requirement already satisfied: jinja2 in /home/fbarnard/git-projects/msci546-project/.venv/lib/python3.10/site-packages (from torch>=1.10.0->pytorch_lightning~=1.9) (3.1.2)\n",
      "Requirement already satisfied: networkx in /home/fbarnard/git-projects/msci546-project/.venv/lib/python3.10/site-packages (from torch>=1.10.0->pytorch_lightning~=1.9) (3.0)\n",
      "Requirement already satisfied: wheel in /home/fbarnard/git-projects/msci546-project/.venv/lib/python3.10/site-packages (from nvidia-cublas-cu11==11.10.3.66->torch>=1.10.0->pytorch_lightning~=1.9) (0.40.0)\n",
      "Requirement already satisfied: setuptools in /home/fbarnard/git-projects/msci546-project/.venv/lib/python3.10/site-packages (from nvidia-cublas-cu11==11.10.3.66->torch>=1.10.0->pytorch_lightning~=1.9) (63.2.0)\n",
      "Requirement already satisfied: cmake in /home/fbarnard/git-projects/msci546-project/.venv/lib/python3.10/site-packages (from triton==2.0.0->torch>=1.10.0->pytorch_lightning~=1.9) (3.26.0)\n",
      "Requirement already satisfied: lit in /home/fbarnard/git-projects/msci546-project/.venv/lib/python3.10/site-packages (from triton==2.0.0->torch>=1.10.0->pytorch_lightning~=1.9) (15.0.7)\n",
      "Requirement already satisfied: grpcio>=1.48.2 in /home/fbarnard/git-projects/msci546-project/.venv/lib/python3.10/site-packages (from tensorboard) (1.51.3)\n",
      "Requirement already satisfied: absl-py>=0.4 in /home/fbarnard/git-projects/msci546-project/.venv/lib/python3.10/site-packages (from tensorboard) (1.4.0)\n",
      "Requirement already satisfied: tensorboard-plugin-wit>=1.6.0 in /home/fbarnard/git-projects/msci546-project/.venv/lib/python3.10/site-packages (from tensorboard) (1.8.1)\n",
      "Requirement already satisfied: werkzeug>=1.0.1 in /home/fbarnard/git-projects/msci546-project/.venv/lib/python3.10/site-packages (from tensorboard) (2.2.3)\n",
      "Requirement already satisfied: protobuf>=3.19.6 in /home/fbarnard/git-projects/msci546-project/.venv/lib/python3.10/site-packages (from tensorboard) (4.22.1)\n",
      "Requirement already satisfied: google-auth<3,>=1.6.3 in /home/fbarnard/git-projects/msci546-project/.venv/lib/python3.10/site-packages (from tensorboard) (2.16.2)\n",
      "Requirement already satisfied: markdown>=2.6.8 in /home/fbarnard/git-projects/msci546-project/.venv/lib/python3.10/site-packages (from tensorboard) (3.4.1)\n",
      "Requirement already satisfied: tensorboard-data-server<0.8.0,>=0.7.0 in /home/fbarnard/git-projects/msci546-project/.venv/lib/python3.10/site-packages (from tensorboard) (0.7.0)\n",
      "Requirement already satisfied: google-auth-oauthlib<0.5,>=0.4.1 in /home/fbarnard/git-projects/msci546-project/.venv/lib/python3.10/site-packages (from tensorboard) (0.4.6)\n",
      "Requirement already satisfied: aiohttp!=4.0.0a0,!=4.0.0a1 in /home/fbarnard/git-projects/msci546-project/.venv/lib/python3.10/site-packages (from fsspec[http]>2021.06.0->pytorch_lightning~=1.9) (3.8.4)\n",
      "Requirement already satisfied: rsa<5,>=3.1.4 in /home/fbarnard/git-projects/msci546-project/.venv/lib/python3.10/site-packages (from google-auth<3,>=1.6.3->tensorboard) (4.9)\n",
      "Requirement already satisfied: pyasn1-modules>=0.2.1 in /home/fbarnard/git-projects/msci546-project/.venv/lib/python3.10/site-packages (from google-auth<3,>=1.6.3->tensorboard) (0.2.8)\n",
      "Requirement already satisfied: six>=1.9.0 in /home/fbarnard/git-projects/msci546-project/.venv/lib/python3.10/site-packages (from google-auth<3,>=1.6.3->tensorboard) (1.16.0)\n",
      "Requirement already satisfied: cachetools<6.0,>=2.0.0 in /home/fbarnard/git-projects/msci546-project/.venv/lib/python3.10/site-packages (from google-auth<3,>=1.6.3->tensorboard) (5.3.0)\n",
      "Requirement already satisfied: requests-oauthlib>=0.7.0 in /home/fbarnard/git-projects/msci546-project/.venv/lib/python3.10/site-packages (from google-auth-oauthlib<0.5,>=0.4.1->tensorboard) (1.3.1)\n",
      "Requirement already satisfied: idna<4,>=2.5 in /home/fbarnard/git-projects/msci546-project/.venv/lib/python3.10/site-packages (from requests->torchvision) (3.4)\n",
      "Requirement already satisfied: urllib3<1.27,>=1.21.1 in /home/fbarnard/git-projects/msci546-project/.venv/lib/python3.10/site-packages (from requests->torchvision) (1.26.15)\n",
      "Requirement already satisfied: charset-normalizer<4,>=2 in /home/fbarnard/git-projects/msci546-project/.venv/lib/python3.10/site-packages (from requests->torchvision) (3.1.0)\n",
      "Requirement already satisfied: certifi>=2017.4.17 in /home/fbarnard/git-projects/msci546-project/.venv/lib/python3.10/site-packages (from requests->torchvision) (2022.12.7)\n",
      "Requirement already satisfied: MarkupSafe>=2.1.1 in /home/fbarnard/git-projects/msci546-project/.venv/lib/python3.10/site-packages (from werkzeug>=1.0.1->tensorboard) (2.1.2)\n",
      "Requirement already satisfied: attrs>=17.3.0 in /home/fbarnard/git-projects/msci546-project/.venv/lib/python3.10/site-packages (from aiohttp!=4.0.0a0,!=4.0.0a1->fsspec[http]>2021.06.0->pytorch_lightning~=1.9) (22.2.0)\n",
      "Requirement already satisfied: multidict<7.0,>=4.5 in /home/fbarnard/git-projects/msci546-project/.venv/lib/python3.10/site-packages (from aiohttp!=4.0.0a0,!=4.0.0a1->fsspec[http]>2021.06.0->pytorch_lightning~=1.9) (6.0.4)\n",
      "Requirement already satisfied: frozenlist>=1.1.1 in /home/fbarnard/git-projects/msci546-project/.venv/lib/python3.10/site-packages (from aiohttp!=4.0.0a0,!=4.0.0a1->fsspec[http]>2021.06.0->pytorch_lightning~=1.9) (1.3.3)\n",
      "Requirement already satisfied: async-timeout<5.0,>=4.0.0a3 in /home/fbarnard/git-projects/msci546-project/.venv/lib/python3.10/site-packages (from aiohttp!=4.0.0a0,!=4.0.0a1->fsspec[http]>2021.06.0->pytorch_lightning~=1.9) (4.0.2)\n",
      "Requirement already satisfied: yarl<2.0,>=1.0 in /home/fbarnard/git-projects/msci546-project/.venv/lib/python3.10/site-packages (from aiohttp!=4.0.0a0,!=4.0.0a1->fsspec[http]>2021.06.0->pytorch_lightning~=1.9) (1.8.2)\n",
      "Requirement already satisfied: aiosignal>=1.1.2 in /home/fbarnard/git-projects/msci546-project/.venv/lib/python3.10/site-packages (from aiohttp!=4.0.0a0,!=4.0.0a1->fsspec[http]>2021.06.0->pytorch_lightning~=1.9) (1.3.1)\n",
      "Requirement already satisfied: pyasn1<0.5.0,>=0.4.6 in /home/fbarnard/git-projects/msci546-project/.venv/lib/python3.10/site-packages (from pyasn1-modules>=0.2.1->google-auth<3,>=1.6.3->tensorboard) (0.4.8)\n",
      "Requirement already satisfied: oauthlib>=3.0.0 in /home/fbarnard/git-projects/msci546-project/.venv/lib/python3.10/site-packages (from requests-oauthlib>=0.7.0->google-auth-oauthlib<0.5,>=0.4.1->tensorboard) (3.2.2)\n",
      "Requirement already satisfied: mpmath>=0.19 in /home/fbarnard/git-projects/msci546-project/.venv/lib/python3.10/site-packages (from sympy->torch>=1.10.0->pytorch_lightning~=1.9) (1.3.0)\n",
      "Note: you may need to restart the kernel to use updated packages.\n"
     ]
    }
   ],
   "source": [
    "%pip install pytorch_lightning~=1.9 matplotlib pandas torchvision tensorboard"
   ]
  },
  {
   "attachments": {},
   "cell_type": "markdown",
   "metadata": {},
   "source": [
    "# Package Imports"
   ]
  },
  {
   "cell_type": "code",
   "execution_count": 87,
   "metadata": {},
   "outputs": [],
   "source": [
    "import numpy as np\n",
    "import pandas as pd \n",
    "from pandas import DataFrame\n",
    "import matplotlib.pyplot as plt\n",
    "import argparse\n",
    "import datetime\n",
    "import os\n",
    "import random\n",
    "import time\n",
    "import pytorch_lightning as pl\n",
    "from pytorch_lightning.callbacks import ModelCheckpoint\n",
    "from pytorch_lightning.profiler import SimpleProfiler\n",
    "from pytorch_lightning.loggers import TensorBoardLogger\n",
    "import torch.nn as nn\n",
    "import torch\n",
    "import pytorch_lightning as pl\n",
    "import torch.nn.functional as F\n",
    "from torchvision import datasets, transforms\n",
    "from torch.utils.data import DataLoader, Subset\n",
    "from torch.utils.data.sampler import SubsetRandomSampler"
   ]
  },
  {
   "attachments": {},
   "cell_type": "markdown",
   "metadata": {},
   "source": [
    "# Read Data"
   ]
  },
  {
   "cell_type": "code",
   "execution_count": 88,
   "metadata": {},
   "outputs": [
    {
     "data": {
      "text/html": [
       "<div>\n",
       "<style scoped>\n",
       "    .dataframe tbody tr th:only-of-type {\n",
       "        vertical-align: middle;\n",
       "    }\n",
       "\n",
       "    .dataframe tbody tr th {\n",
       "        vertical-align: top;\n",
       "    }\n",
       "\n",
       "    .dataframe thead th {\n",
       "        text-align: right;\n",
       "    }\n",
       "</style>\n",
       "<table border=\"1\" class=\"dataframe\">\n",
       "  <thead>\n",
       "    <tr style=\"text-align: right;\">\n",
       "      <th></th>\n",
       "      <th>year</th>\n",
       "      <th>data_year</th>\n",
       "      <th>cfips</th>\n",
       "      <th>microbusiness_density</th>\n",
       "      <th>pct_college</th>\n",
       "      <th>pct_in_arts_industry</th>\n",
       "      <th>pct_divorced</th>\n",
       "      <th>pct_house_price_gt1mill</th>\n",
       "      <th>pct_house_price_250k_500k</th>\n",
       "      <th>pct_in_finance_industry</th>\n",
       "      <th>...</th>\n",
       "      <th>pct_with_libarts_degree</th>\n",
       "      <th>median_hh_inc</th>\n",
       "      <th>pct_insured</th>\n",
       "      <th>total_population</th>\n",
       "      <th>birth_rate</th>\n",
       "      <th>pct_with_scieng_degree</th>\n",
       "      <th>pct_moved_within_state</th>\n",
       "      <th>pct_broadband</th>\n",
       "      <th>median_age</th>\n",
       "      <th>pct_moved_from_abroad</th>\n",
       "    </tr>\n",
       "  </thead>\n",
       "  <tbody>\n",
       "    <tr>\n",
       "      <th>count</th>\n",
       "      <td>12456.000000</td>\n",
       "      <td>12456.000000</td>\n",
       "      <td>12456.000000</td>\n",
       "      <td>12456.000000</td>\n",
       "      <td>12456.000000</td>\n",
       "      <td>12456.000000</td>\n",
       "      <td>12456.000000</td>\n",
       "      <td>12456.000000</td>\n",
       "      <td>12456.000000</td>\n",
       "      <td>12456.000000</td>\n",
       "      <td>...</td>\n",
       "      <td>12456.000000</td>\n",
       "      <td>12456.000000</td>\n",
       "      <td>12456.000000</td>\n",
       "      <td>1.245600e+04</td>\n",
       "      <td>12456.000000</td>\n",
       "      <td>12456.000000</td>\n",
       "      <td>12456.000000</td>\n",
       "      <td>12456.000000</td>\n",
       "      <td>12456.000000</td>\n",
       "      <td>12456.000000</td>\n",
       "    </tr>\n",
       "    <tr>\n",
       "      <th>mean</th>\n",
       "      <td>2020.498555</td>\n",
       "      <td>2018.498555</td>\n",
       "      <td>30352.330604</td>\n",
       "      <td>3.810892</td>\n",
       "      <td>14.172792</td>\n",
       "      <td>8.249930</td>\n",
       "      <td>11.675442</td>\n",
       "      <td>1.569199</td>\n",
       "      <td>13.921047</td>\n",
       "      <td>4.570278</td>\n",
       "      <td>...</td>\n",
       "      <td>19.681993</td>\n",
       "      <td>52494.798491</td>\n",
       "      <td>89.911448</td>\n",
       "      <td>1.039468e+05</td>\n",
       "      <td>58.125321</td>\n",
       "      <td>29.313134</td>\n",
       "      <td>4.216610</td>\n",
       "      <td>74.189499</td>\n",
       "      <td>41.315792</td>\n",
       "      <td>0.337636</td>\n",
       "    </tr>\n",
       "    <tr>\n",
       "      <th>std</th>\n",
       "      <td>1.118006</td>\n",
       "      <td>1.118006</td>\n",
       "      <td>15149.438085</td>\n",
       "      <td>4.708348</td>\n",
       "      <td>5.666619</td>\n",
       "      <td>3.608223</td>\n",
       "      <td>2.389827</td>\n",
       "      <td>6.271238</td>\n",
       "      <td>17.183132</td>\n",
       "      <td>1.912981</td>\n",
       "      <td>...</td>\n",
       "      <td>5.190753</td>\n",
       "      <td>14056.439955</td>\n",
       "      <td>5.138415</td>\n",
       "      <td>3.316897e+05</td>\n",
       "      <td>22.428349</td>\n",
       "      <td>6.763319</td>\n",
       "      <td>2.255447</td>\n",
       "      <td>9.514263</td>\n",
       "      <td>5.363769</td>\n",
       "      <td>0.556830</td>\n",
       "    </tr>\n",
       "    <tr>\n",
       "      <th>min</th>\n",
       "      <td>2019.000000</td>\n",
       "      <td>2017.000000</td>\n",
       "      <td>1001.000000</td>\n",
       "      <td>0.007172</td>\n",
       "      <td>0.300000</td>\n",
       "      <td>0.000000</td>\n",
       "      <td>1.100000</td>\n",
       "      <td>0.000000</td>\n",
       "      <td>0.000000</td>\n",
       "      <td>0.000000</td>\n",
       "      <td>...</td>\n",
       "      <td>0.000000</td>\n",
       "      <td>19264.000000</td>\n",
       "      <td>51.800000</td>\n",
       "      <td>2.890000e+02</td>\n",
       "      <td>1.000000</td>\n",
       "      <td>0.000000</td>\n",
       "      <td>0.000000</td>\n",
       "      <td>24.500000</td>\n",
       "      <td>21.600000</td>\n",
       "      <td>0.000000</td>\n",
       "    </tr>\n",
       "    <tr>\n",
       "      <th>25%</th>\n",
       "      <td>2019.000000</td>\n",
       "      <td>2017.000000</td>\n",
       "      <td>18175.000000</td>\n",
       "      <td>1.643694</td>\n",
       "      <td>10.000000</td>\n",
       "      <td>6.065085</td>\n",
       "      <td>10.100000</td>\n",
       "      <td>0.000000</td>\n",
       "      <td>0.000000</td>\n",
       "      <td>3.347895</td>\n",
       "      <td>...</td>\n",
       "      <td>16.600000</td>\n",
       "      <td>43250.750000</td>\n",
       "      <td>87.300000</td>\n",
       "      <td>1.122450e+04</td>\n",
       "      <td>45.000000</td>\n",
       "      <td>25.000000</td>\n",
       "      <td>2.700000</td>\n",
       "      <td>68.600000</td>\n",
       "      <td>38.100000</td>\n",
       "      <td>0.100000</td>\n",
       "    </tr>\n",
       "    <tr>\n",
       "      <th>50%</th>\n",
       "      <td>2020.000000</td>\n",
       "      <td>2018.000000</td>\n",
       "      <td>29163.000000</td>\n",
       "      <td>2.592647</td>\n",
       "      <td>13.200000</td>\n",
       "      <td>7.819777</td>\n",
       "      <td>11.700000</td>\n",
       "      <td>0.000000</td>\n",
       "      <td>8.196721</td>\n",
       "      <td>4.284992</td>\n",
       "      <td>...</td>\n",
       "      <td>19.700000</td>\n",
       "      <td>50750.000000</td>\n",
       "      <td>90.800000</td>\n",
       "      <td>2.617300e+04</td>\n",
       "      <td>55.000000</td>\n",
       "      <td>28.800000</td>\n",
       "      <td>3.800000</td>\n",
       "      <td>75.200000</td>\n",
       "      <td>41.200000</td>\n",
       "      <td>0.200000</td>\n",
       "    </tr>\n",
       "    <tr>\n",
       "      <th>75%</th>\n",
       "      <td>2021.000000</td>\n",
       "      <td>2019.000000</td>\n",
       "      <td>45071.000000</td>\n",
       "      <td>4.507900</td>\n",
       "      <td>17.300000</td>\n",
       "      <td>9.675501</td>\n",
       "      <td>13.200000</td>\n",
       "      <td>0.000000</td>\n",
       "      <td>22.287496</td>\n",
       "      <td>5.496187</td>\n",
       "      <td>...</td>\n",
       "      <td>22.700000</td>\n",
       "      <td>58867.000000</td>\n",
       "      <td>93.800000</td>\n",
       "      <td>6.847500e+04</td>\n",
       "      <td>68.000000</td>\n",
       "      <td>33.200000</td>\n",
       "      <td>5.200000</td>\n",
       "      <td>80.900000</td>\n",
       "      <td>44.400000</td>\n",
       "      <td>0.400000</td>\n",
       "    </tr>\n",
       "    <tr>\n",
       "      <th>max</th>\n",
       "      <td>2022.000000</td>\n",
       "      <td>2020.000000</td>\n",
       "      <td>56045.000000</td>\n",
       "      <td>172.027446</td>\n",
       "      <td>48.000000</td>\n",
       "      <td>47.038328</td>\n",
       "      <td>29.800000</td>\n",
       "      <td>100.000000</td>\n",
       "      <td>100.000000</td>\n",
       "      <td>21.069729</td>\n",
       "      <td>...</td>\n",
       "      <td>75.000000</td>\n",
       "      <td>147111.000000</td>\n",
       "      <td>99.000000</td>\n",
       "      <td>1.010572e+07</td>\n",
       "      <td>387.000000</td>\n",
       "      <td>65.700000</td>\n",
       "      <td>22.100000</td>\n",
       "      <td>96.700000</td>\n",
       "      <td>68.000000</td>\n",
       "      <td>15.300000</td>\n",
       "    </tr>\n",
       "  </tbody>\n",
       "</table>\n",
       "<p>8 rows × 25 columns</p>\n",
       "</div>"
      ],
      "text/plain": [
       "               year     data_year         cfips  microbusiness_density  \\\n",
       "count  12456.000000  12456.000000  12456.000000           12456.000000   \n",
       "mean    2020.498555   2018.498555  30352.330604               3.810892   \n",
       "std        1.118006      1.118006  15149.438085               4.708348   \n",
       "min     2019.000000   2017.000000   1001.000000               0.007172   \n",
       "25%     2019.000000   2017.000000  18175.000000               1.643694   \n",
       "50%     2020.000000   2018.000000  29163.000000               2.592647   \n",
       "75%     2021.000000   2019.000000  45071.000000               4.507900   \n",
       "max     2022.000000   2020.000000  56045.000000             172.027446   \n",
       "\n",
       "        pct_college  pct_in_arts_industry  pct_divorced  \\\n",
       "count  12456.000000          12456.000000  12456.000000   \n",
       "mean      14.172792              8.249930     11.675442   \n",
       "std        5.666619              3.608223      2.389827   \n",
       "min        0.300000              0.000000      1.100000   \n",
       "25%       10.000000              6.065085     10.100000   \n",
       "50%       13.200000              7.819777     11.700000   \n",
       "75%       17.300000              9.675501     13.200000   \n",
       "max       48.000000             47.038328     29.800000   \n",
       "\n",
       "       pct_house_price_gt1mill  pct_house_price_250k_500k  \\\n",
       "count             12456.000000               12456.000000   \n",
       "mean                  1.569199                  13.921047   \n",
       "std                   6.271238                  17.183132   \n",
       "min                   0.000000                   0.000000   \n",
       "25%                   0.000000                   0.000000   \n",
       "50%                   0.000000                   8.196721   \n",
       "75%                   0.000000                  22.287496   \n",
       "max                 100.000000                 100.000000   \n",
       "\n",
       "       pct_in_finance_industry  ...  pct_with_libarts_degree  median_hh_inc  \\\n",
       "count             12456.000000  ...             12456.000000   12456.000000   \n",
       "mean                  4.570278  ...                19.681993   52494.798491   \n",
       "std                   1.912981  ...                 5.190753   14056.439955   \n",
       "min                   0.000000  ...                 0.000000   19264.000000   \n",
       "25%                   3.347895  ...                16.600000   43250.750000   \n",
       "50%                   4.284992  ...                19.700000   50750.000000   \n",
       "75%                   5.496187  ...                22.700000   58867.000000   \n",
       "max                  21.069729  ...                75.000000  147111.000000   \n",
       "\n",
       "        pct_insured  total_population    birth_rate  pct_with_scieng_degree  \\\n",
       "count  12456.000000      1.245600e+04  12456.000000            12456.000000   \n",
       "mean      89.911448      1.039468e+05     58.125321               29.313134   \n",
       "std        5.138415      3.316897e+05     22.428349                6.763319   \n",
       "min       51.800000      2.890000e+02      1.000000                0.000000   \n",
       "25%       87.300000      1.122450e+04     45.000000               25.000000   \n",
       "50%       90.800000      2.617300e+04     55.000000               28.800000   \n",
       "75%       93.800000      6.847500e+04     68.000000               33.200000   \n",
       "max       99.000000      1.010572e+07    387.000000               65.700000   \n",
       "\n",
       "       pct_moved_within_state  pct_broadband    median_age  \\\n",
       "count            12456.000000   12456.000000  12456.000000   \n",
       "mean                 4.216610      74.189499     41.315792   \n",
       "std                  2.255447       9.514263      5.363769   \n",
       "min                  0.000000      24.500000     21.600000   \n",
       "25%                  2.700000      68.600000     38.100000   \n",
       "50%                  3.800000      75.200000     41.200000   \n",
       "75%                  5.200000      80.900000     44.400000   \n",
       "max                 22.100000      96.700000     68.000000   \n",
       "\n",
       "       pct_moved_from_abroad  \n",
       "count           12456.000000  \n",
       "mean                0.337636  \n",
       "std                 0.556830  \n",
       "min                 0.000000  \n",
       "25%                 0.100000  \n",
       "50%                 0.200000  \n",
       "75%                 0.400000  \n",
       "max                15.300000  \n",
       "\n",
       "[8 rows x 25 columns]"
      ]
     },
     "execution_count": 88,
     "metadata": {},
     "output_type": "execute_result"
    }
   ],
   "source": [
    "raw_data_train = pd.read_csv('../data/master_reduced.csv')\n",
    "raw_data_train.describe()"
   ]
  },
  {
   "attachments": {},
   "cell_type": "markdown",
   "metadata": {},
   "source": [
    "# Preprocess Data"
   ]
  },
  {
   "cell_type": "code",
   "execution_count": 89,
   "metadata": {},
   "outputs": [
    {
     "data": {
      "text/html": [
       "<div>\n",
       "<style scoped>\n",
       "    .dataframe tbody tr th:only-of-type {\n",
       "        vertical-align: middle;\n",
       "    }\n",
       "\n",
       "    .dataframe tbody tr th {\n",
       "        vertical-align: top;\n",
       "    }\n",
       "\n",
       "    .dataframe thead th {\n",
       "        text-align: right;\n",
       "    }\n",
       "</style>\n",
       "<table border=\"1\" class=\"dataframe\">\n",
       "  <thead>\n",
       "    <tr style=\"text-align: right;\">\n",
       "      <th></th>\n",
       "      <th>year</th>\n",
       "      <th>data_year</th>\n",
       "      <th>cfips</th>\n",
       "      <th>median_hh_inc</th>\n",
       "      <th>total_population</th>\n",
       "      <th>birth_rate</th>\n",
       "      <th>pct_college</th>\n",
       "      <th>pct_in_arts_industry</th>\n",
       "      <th>pct_divorced</th>\n",
       "      <th>pct_house_price_gt1mill</th>\n",
       "      <th>...</th>\n",
       "      <th>pct_house_price_500k_1mill</th>\n",
       "      <th>pct_housing_single_detached</th>\n",
       "      <th>pct_employed_at_self_employed</th>\n",
       "      <th>pct_with_libarts_degree</th>\n",
       "      <th>pct_insured</th>\n",
       "      <th>pct_with_scieng_degree</th>\n",
       "      <th>pct_moved_within_state</th>\n",
       "      <th>pct_broadband</th>\n",
       "      <th>median_age</th>\n",
       "      <th>pct_moved_from_abroad</th>\n",
       "    </tr>\n",
       "  </thead>\n",
       "  <tbody>\n",
       "    <tr>\n",
       "      <th>0</th>\n",
       "      <td>-1.340382</td>\n",
       "      <td>-1.340382</td>\n",
       "      <td>-1.937453</td>\n",
       "      <td>0.200776</td>\n",
       "      <td>-0.147459</td>\n",
       "      <td>0.574036</td>\n",
       "      <td>0.057743</td>\n",
       "      <td>0.191694</td>\n",
       "      <td>-0.031568</td>\n",
       "      <td>-0.250222</td>\n",
       "      <td>...</td>\n",
       "      <td>-0.447009</td>\n",
       "      <td>-0.015671</td>\n",
       "      <td>-0.713734</td>\n",
       "      <td>0.812600</td>\n",
       "      <td>0.250768</td>\n",
       "      <td>0.012844</td>\n",
       "      <td>0.302995</td>\n",
       "      <td>0.253357</td>\n",
       "      <td>-0.655470</td>\n",
       "      <td>-0.247179</td>\n",
       "    </tr>\n",
       "    <tr>\n",
       "      <th>1</th>\n",
       "      <td>-1.340382</td>\n",
       "      <td>-1.340382</td>\n",
       "      <td>-1.937321</td>\n",
       "      <td>0.004781</td>\n",
       "      <td>0.299718</td>\n",
       "      <td>-0.362279</td>\n",
       "      <td>1.098928</td>\n",
       "      <td>0.657544</td>\n",
       "      <td>0.596093</td>\n",
       "      <td>0.240419</td>\n",
       "      <td>...</td>\n",
       "      <td>0.299968</td>\n",
       "      <td>0.080073</td>\n",
       "      <td>-0.031499</td>\n",
       "      <td>0.061264</td>\n",
       "      <td>-0.138457</td>\n",
       "      <td>-0.297655</td>\n",
       "      <td>-0.938444</td>\n",
       "      <td>0.032635</td>\n",
       "      <td>0.239423</td>\n",
       "      <td>-0.067591</td>\n",
       "    </tr>\n",
       "    <tr>\n",
       "      <th>2</th>\n",
       "      <td>-1.340382</td>\n",
       "      <td>-1.340382</td>\n",
       "      <td>-1.937189</td>\n",
       "      <td>-1.360714</td>\n",
       "      <td>-0.234393</td>\n",
       "      <td>0.529450</td>\n",
       "      <td>-1.159914</td>\n",
       "      <td>-0.385308</td>\n",
       "      <td>0.219496</td>\n",
       "      <td>0.169405</td>\n",
       "      <td>...</td>\n",
       "      <td>-0.447009</td>\n",
       "      <td>-1.518841</td>\n",
       "      <td>-0.332485</td>\n",
       "      <td>-0.169916</td>\n",
       "      <td>-0.430376</td>\n",
       "      <td>-0.948223</td>\n",
       "      <td>-0.362061</td>\n",
       "      <td>-1.785687</td>\n",
       "      <td>-0.301242</td>\n",
       "      <td>-0.247179</td>\n",
       "    </tr>\n",
       "    <tr>\n",
       "      <th>3</th>\n",
       "      <td>-1.340382</td>\n",
       "      <td>-1.340382</td>\n",
       "      <td>-1.937057</td>\n",
       "      <td>-0.646735</td>\n",
       "      <td>-0.245310</td>\n",
       "      <td>0.707795</td>\n",
       "      <td>-1.071678</td>\n",
       "      <td>-1.218005</td>\n",
       "      <td>-0.198944</td>\n",
       "      <td>-0.250222</td>\n",
       "      <td>...</td>\n",
       "      <td>1.646481</td>\n",
       "      <td>-0.599705</td>\n",
       "      <td>-0.693669</td>\n",
       "      <td>0.176854</td>\n",
       "      <td>0.386997</td>\n",
       "      <td>-0.992580</td>\n",
       "      <td>1.367086</td>\n",
       "      <td>-1.281182</td>\n",
       "      <td>-0.282598</td>\n",
       "      <td>0.111997</td>\n",
       "    </tr>\n",
       "    <tr>\n",
       "      <th>4</th>\n",
       "      <td>-1.340382</td>\n",
       "      <td>-1.340382</td>\n",
       "      <td>-1.936925</td>\n",
       "      <td>-0.361599</td>\n",
       "      <td>-0.139527</td>\n",
       "      <td>-0.005588</td>\n",
       "      <td>-0.965795</td>\n",
       "      <td>-1.105513</td>\n",
       "      <td>-0.198944</td>\n",
       "      <td>0.089051</td>\n",
       "      <td>...</td>\n",
       "      <td>-0.447009</td>\n",
       "      <td>-0.168860</td>\n",
       "      <td>-0.733800</td>\n",
       "      <td>0.176854</td>\n",
       "      <td>-0.177379</td>\n",
       "      <td>-0.948223</td>\n",
       "      <td>-0.716758</td>\n",
       "      <td>-0.881781</td>\n",
       "      <td>-0.077519</td>\n",
       "      <td>-0.247179</td>\n",
       "    </tr>\n",
       "  </tbody>\n",
       "</table>\n",
       "<p>5 rows × 24 columns</p>\n",
       "</div>"
      ],
      "text/plain": [
       "       year  data_year     cfips  median_hh_inc  total_population  birth_rate  \\\n",
       "0 -1.340382  -1.340382 -1.937453       0.200776         -0.147459    0.574036   \n",
       "1 -1.340382  -1.340382 -1.937321       0.004781          0.299718   -0.362279   \n",
       "2 -1.340382  -1.340382 -1.937189      -1.360714         -0.234393    0.529450   \n",
       "3 -1.340382  -1.340382 -1.937057      -0.646735         -0.245310    0.707795   \n",
       "4 -1.340382  -1.340382 -1.936925      -0.361599         -0.139527   -0.005588   \n",
       "\n",
       "   pct_college  pct_in_arts_industry  pct_divorced  pct_house_price_gt1mill  \\\n",
       "0     0.057743              0.191694     -0.031568                -0.250222   \n",
       "1     1.098928              0.657544      0.596093                 0.240419   \n",
       "2    -1.159914             -0.385308      0.219496                 0.169405   \n",
       "3    -1.071678             -1.218005     -0.198944                -0.250222   \n",
       "4    -0.965795             -1.105513     -0.198944                 0.089051   \n",
       "\n",
       "   ...  pct_house_price_500k_1mill  pct_housing_single_detached  \\\n",
       "0  ...                   -0.447009                    -0.015671   \n",
       "1  ...                    0.299968                     0.080073   \n",
       "2  ...                   -0.447009                    -1.518841   \n",
       "3  ...                    1.646481                    -0.599705   \n",
       "4  ...                   -0.447009                    -0.168860   \n",
       "\n",
       "   pct_employed_at_self_employed  pct_with_libarts_degree  pct_insured  \\\n",
       "0                      -0.713734                 0.812600     0.250768   \n",
       "1                      -0.031499                 0.061264    -0.138457   \n",
       "2                      -0.332485                -0.169916    -0.430376   \n",
       "3                      -0.693669                 0.176854     0.386997   \n",
       "4                      -0.733800                 0.176854    -0.177379   \n",
       "\n",
       "   pct_with_scieng_degree  pct_moved_within_state  pct_broadband  median_age  \\\n",
       "0                0.012844                0.302995       0.253357   -0.655470   \n",
       "1               -0.297655               -0.938444       0.032635    0.239423   \n",
       "2               -0.948223               -0.362061      -1.785687   -0.301242   \n",
       "3               -0.992580                1.367086      -1.281182   -0.282598   \n",
       "4               -0.948223               -0.716758      -0.881781   -0.077519   \n",
       "\n",
       "   pct_moved_from_abroad  \n",
       "0              -0.247179  \n",
       "1              -0.067591  \n",
       "2              -0.247179  \n",
       "3               0.111997  \n",
       "4              -0.247179  \n",
       "\n",
       "[5 rows x 24 columns]"
      ]
     },
     "execution_count": 89,
     "metadata": {},
     "output_type": "execute_result"
    }
   ],
   "source": [
    "numeric_columns = []\n",
    "numeric_columns.extend(list(raw_data_train.dtypes[raw_data_train.dtypes == np.int64].index))\n",
    "numeric_columns.extend(list(raw_data_train.dtypes[raw_data_train.dtypes == np.float64].index))\n",
    "\n",
    "# Move microbusiness_density (==y) to the end\n",
    "numeric_columns.remove('microbusiness_density')\n",
    "numeric_columns.append('microbusiness_density')\n",
    "\n",
    "numeric_data_tr = DataFrame(raw_data_train, columns=numeric_columns)\n",
    "\n",
    "nan_columns_tr = np.any(pd.isna(numeric_data_tr), axis = 0)\n",
    "nan_columns_tr = list(nan_columns_tr[nan_columns_tr == True].index)\n",
    "\n",
    "\n",
    "# Fill NaN values with 0\n",
    "for col in nan_columns_tr:\n",
    "    numeric_data_tr[col] = numeric_data_tr[col].fillna(0)\n",
    "\n",
    "numeric_x_columns = list(numeric_data_tr.columns)\n",
    "numeric_x_columns.remove('microbusiness_density')\n",
    "numeric_y_columns = ['microbusiness_density']\n",
    "\n",
    "numeric_tr_x_df = DataFrame(numeric_data_tr, columns=numeric_x_columns)\n",
    "numeric_tr_y_df = DataFrame(numeric_data_tr, columns=numeric_y_columns)\n",
    "\n",
    "# Noramlize the data!\n",
    "numeric_data_tr_norm = (numeric_data_tr - numeric_data_tr.mean()) / numeric_data_tr.std()\n",
    "numeric_x_columns = list(numeric_data_tr_norm.columns)\n",
    "numeric_x_columns.remove('microbusiness_density')\n",
    "\n",
    "numeric_tr_x_df = DataFrame(numeric_data_tr_norm, columns=numeric_x_columns)\n",
    "numeric_tr_x_df.head()"
   ]
  },
  {
   "attachments": {},
   "cell_type": "markdown",
   "metadata": {},
   "source": [
    "# Define DataModule for Pytorch Lightning"
   ]
  },
  {
   "cell_type": "code",
   "execution_count": 90,
   "metadata": {},
   "outputs": [],
   "source": [
    "class MicroDensityDataset(torch.utils.data.Dataset):\n",
    "    def __init__(self, csv_file_x, csv_file_y):\n",
    "        self.csv_file_x = torch.tensor(csv_file_x.values, dtype=torch.float)\n",
    "        self.csv_file_y = torch.tensor(csv_file_y.values, dtype=torch.float)\n",
    "\n",
    "    def __len__(self):\n",
    "        return len(self.csv_file_x)\n",
    "\n",
    "    def __getitem__(self, idx):\n",
    "        x = self.csv_file_x[idx]\n",
    "        y = self.csv_file_y[idx]\n",
    "        return {'x': x, 'y': y}\n",
    "\n",
    "\n",
    "class MicroDensityDataModule(pl.LightningDataModule):\n",
    "\n",
    "    def __init__(self, **kwargs):\n",
    "        super().__init__()\n",
    "\n",
    "        self.batch_size = kwargs.get('batch_size')\n",
    "        self.num_workers = kwargs.get('num_workers', 0)\n",
    "        self.val_ratio = kwargs.get('val_ratio')\n",
    "\n",
    "        error_msg = \"[!] valid_size should be in the range [0, 1].\"\n",
    "        assert ((self.val_ratio >= 0) and (self.val_ratio <= 1)), error_msg\n",
    "        # Data: data transformation strategy\n",
    "\n",
    "\n",
    "\n",
    "        num_train = 1200\n",
    "        indices = list(range(num_train))\n",
    "        split = int(np.floor(self.val_ratio * num_train))\n",
    "\n",
    "        np.random.shuffle(indices)\n",
    "\n",
    "        train_idx, valid_idx = indices[split:], indices[:split]\n",
    "        test_idx = list(range(1201, 1459))\n",
    "\n",
    "        self.dataset_tr = MicroDensityDataset(numeric_tr_x_df.iloc[train_idx], numeric_tr_y_df.iloc[train_idx])\n",
    "        self.dataset_val = MicroDensityDataset(numeric_tr_x_df.iloc[valid_idx], numeric_tr_y_df.iloc[valid_idx])\n",
    "        self.dataset_te = MicroDensityDataset(numeric_tr_x_df.iloc[test_idx], numeric_tr_y_df.iloc[test_idx])\n",
    "\n",
    "\n",
    "\n",
    "    def train_dataloader(self):\n",
    "        return DataLoader(self.dataset_tr, batch_size=self.batch_size, num_workers=self.num_workers)\n",
    "\n",
    "    def val_dataloader(self):\n",
    "        return DataLoader(self.dataset_val, batch_size=self.batch_size, num_workers=self.num_workers, shuffle=False)\n",
    "\n",
    "    def test_dataloader(self):\n",
    "        return DataLoader(self.dataset_te, batch_size=self.batch_size, num_workers=self.num_workers, shuffle=False)"
   ]
  },
  {
   "attachments": {},
   "cell_type": "markdown",
   "metadata": {},
   "source": [
    "# Define Model"
   ]
  },
  {
   "cell_type": "code",
   "execution_count": 91,
   "metadata": {},
   "outputs": [],
   "source": [
    "class Regression(pl.LightningModule):\n",
    "    def __init__(self, **kwargs):\n",
    "        super().__init__()\n",
    "        self.lr = kwargs.get('lr')\n",
    "\n",
    "        self.linear1 = nn.Linear(24, 100)\n",
    "        self.linear2 = nn.Linear(100, 1)\n",
    "        self.relu = nn.ReLU()\n",
    "        self.loss = nn.MSELoss(reduction='sum')\n",
    "        # self.loss = nn.L1Loss(reduction='sum')\n",
    "        \n",
    "\n",
    "        self.save_hyperparameters()\n",
    "\n",
    "    def forward(self, x):\n",
    "        y_pred = self.relu(self.linear1(x))\n",
    "        y_pred = self.relu(self.linear2(y_pred))\n",
    "        return y_pred\n",
    "\n",
    "\n",
    "    def training_step(self, batch, batch_idx):\n",
    "        x, y = batch['x'], batch['y']\n",
    "        y_hat = self(x)\n",
    "        loss = self.loss(y_hat, y)\n",
    "        self.log('Training loss', loss.item())\n",
    "        return loss\n",
    "\n",
    "    def on_validation_start(self):\n",
    "        self.losses = []\n",
    "        self.mse_losses = []\n",
    "        self.num_samples = 0\n",
    "\n",
    "\n",
    "    def validation_step(self, batch, batch_idx):\n",
    "        x, y = batch['x'], batch['y']\n",
    "        y_hat = self(x)\n",
    "        loss = torch.abs(y_hat-y)\n",
    "        mse_loss = torch.square(y - y_hat)\n",
    "        self.num_samples += x.size(0)\n",
    "        self.losses.append(loss.sum().item())\n",
    "        self.mse_losses.append(mse_loss.sum().item())\n",
    "        return loss\n",
    "\n",
    "    def validation_epoch_end(self, outputs):\n",
    "        overall_loss = np.sum(self.losses)/self.num_samples\n",
    "        mse_overall_loss = np.sum(self.mse_losses)/self.num_samples\n",
    "        rmse_overall_loss = np.sqrt(mse_overall_loss)\n",
    "        self.log('Validation loss', overall_loss)\n",
    "        self.log('Validation MSE loss', mse_overall_loss)\n",
    "        self.log('Validation RMSE loss', rmse_overall_loss)\n",
    "\n",
    "    def on_test_start(self):\n",
    "        self.losses = []\n",
    "        self.mse_losses = []\n",
    "        self.num_samples = 0\n",
    "        self.pred_y = []\n",
    "        self.gnd_y = []\n",
    "\n",
    "    def test_step(self, batch, batch_idx):\n",
    "        x, y = batch['x'], batch['y']\n",
    "        y_hat = self(x)\n",
    "        loss = torch.abs(y_hat-y)\n",
    "        mse_loss = torch.square(y - y_hat)\n",
    "        self.pred_y.append(y_hat.sum().item())\n",
    "        self.gnd_y.append(y.sum().item())\n",
    "        self.num_samples += x.size(0)\n",
    "        self.losses.append(loss.sum().item())\n",
    "        self.mse_losses.append(mse_loss.sum().item())\n",
    "        return loss\n",
    "\n",
    "    def test_epoch_end(self, outputs):\n",
    "        overall_loss = np.sum(self.losses)/self.num_samples\n",
    "        mse_overall_loss = np.sum(self.mse_losses)/self.num_samples\n",
    "        rmse_overall_loss = np.sqrt(mse_overall_loss)\n",
    "        self.log('Test loss', overall_loss)\n",
    "        self.log('Test MSE loss', mse_overall_loss)\n",
    "        self.log('Test RMSE loss', rmse_overall_loss)\n",
    "        # self.log('Y Predictions', self.pred_y)\n",
    "        # self.log('Y gnd', self.gnd_y)\n",
    "        nn_test_results = pd.DataFrame({'y_pred': self.pred_y, 'y_true': self.gnd_y})\n",
    "        nn_fig, nn_plot = plt.subplots()\n",
    "        nn_plot.plot(range(250), color='black')\n",
    "        nn_plot.scatter(nn_test_results.y_true, nn_test_results.y_pred, marker='x')\n",
    "\n",
    "    def configure_optimizers(self):\n",
    "        return torch.optim.Adam(self.parameters(), lr=self.lr)"
   ]
  },
  {
   "attachments": {},
   "cell_type": "markdown",
   "metadata": {},
   "source": [
    "# Define Training Configuration"
   ]
  },
  {
   "cell_type": "code",
   "execution_count": 92,
   "metadata": {},
   "outputs": [],
   "source": [
    "dict_args = {\n",
    "    'dataloader': MicroDensityDataModule,\n",
    "    'load': None,\n",
    "    'resume_from_checkpoint': None,\n",
    "    'batch_size': 32,\n",
    "    'epoch': 50,\n",
    "    'num_workers': 6, \n",
    "    'val_freq': 0.5, \n",
    "    'logdir': './logs',\n",
    "    'lr': 0.001, \n",
    "    'display_freq': 64,\n",
    "    'seed': 42, \n",
    "    'clip_grad_norm': 0, \n",
    "    'val_ratio': 0.2\n",
    "}"
   ]
  },
  {
   "cell_type": "code",
   "execution_count": 93,
   "metadata": {},
   "outputs": [
    {
     "name": "stderr",
     "output_type": "stream",
     "text": [
      "Global seed set to 42\n",
      "GPU available: True (cuda), used: False\n",
      "TPU available: False, using: 0 TPU cores\n",
      "IPU available: False, using: 0 IPUs\n",
      "HPU available: False, using: 0 HPUs\n"
     ]
    },
    {
     "name": "stdout",
     "output_type": "stream",
     "text": [
      "0315174350\n"
     ]
    },
    {
     "name": "stderr",
     "output_type": "stream",
     "text": [
      "/home/fbarnard/git-projects/msci546-project/.venv/lib/python3.10/site-packages/pytorch_lightning/trainer/setup.py:176: PossibleUserWarning: GPU available but not used. Set `accelerator` and `devices` using `Trainer(accelerator='gpu', devices=1)`.\n",
      "  rank_zero_warn(\n"
     ]
    }
   ],
   "source": [
    "# Define seed for reproducibility\n",
    "pl.seed_everything(dict_args['seed'])\n",
    "# Initialize model to train\n",
    "\n",
    "if dict_args['load'] is not None:\n",
    "    model = Regression.load_from_checkpoint(dict_args['load'], **dict_args)\n",
    "else:\n",
    "    model = Regression(**dict_args)\n",
    "\n",
    "# Initialize logging paths\n",
    "now = datetime.datetime.now().strftime('%m%d%H%M%S')\n",
    "print(now)\n",
    "weight_save_dir = os.path.join(dict_args[\"logdir\"], os.path.join('models', 'state_dict', now))\n",
    "\n",
    "\n",
    "os.makedirs(weight_save_dir, exist_ok=True)\n",
    "\n",
    "# Callback: model checkpoint strategy\n",
    "checkpoint_callback = ModelCheckpoint(\n",
    "    dirpath=weight_save_dir, save_top_k=5, verbose=True, monitor=\"Validation loss\", mode=\"min\"\n",
    ")\n",
    "\n",
    "# Data: load data module\n",
    "data_module = dict_args['dataloader'](**dict_args)\n",
    "\n",
    "# Trainer: initialize training behaviour\n",
    "\n",
    "logger = TensorBoardLogger(save_dir=dict_args['logdir'], version=now, name='lightning_logs', log_graph=True)\n",
    "trainer = pl.Trainer(\n",
    "    callbacks=[checkpoint_callback],\n",
    "    val_check_interval=dict_args['val_freq'],\n",
    "    deterministic=True,\n",
    "    logger=logger,\n",
    "    max_epochs=dict_args[\"epoch\"],\n",
    "    log_every_n_steps=dict_args[\"display_freq\"],\n",
    "    gradient_clip_val=dict_args['clip_grad_norm'],\n",
    "    resume_from_checkpoint=dict_args['resume_from_checkpoint']\n",
    ")"
   ]
  },
  {
   "attachments": {},
   "cell_type": "markdown",
   "metadata": {},
   "source": [
    "# Train the model"
   ]
  },
  {
   "cell_type": "code",
   "execution_count": 94,
   "metadata": {},
   "outputs": [
    {
     "name": "stderr",
     "output_type": "stream",
     "text": [
      "\n",
      "  | Name    | Type    | Params\n",
      "------------------------------------\n",
      "0 | linear1 | Linear  | 2.5 K \n",
      "1 | linear2 | Linear  | 101   \n",
      "2 | relu    | ReLU    | 0     \n",
      "3 | loss    | MSELoss | 0     \n",
      "------------------------------------\n",
      "2.6 K     Trainable params\n",
      "0         Non-trainable params\n",
      "2.6 K     Total params\n",
      "0.010     Total estimated model params size (MB)\n",
      "/home/fbarnard/git-projects/msci546-project/.venv/lib/python3.10/site-packages/pytorch_lightning/loggers/tensorboard.py:188: UserWarning: Could not log computational graph to TensorBoard: The `model.example_input_array` attribute is not set or `input_array` was not given.\n",
      "  rank_zero_warn(\n"
     ]
    },
    {
     "name": "stdout",
     "output_type": "stream",
     "text": [
      "                                                                            "
     ]
    },
    {
     "name": "stderr",
     "output_type": "stream",
     "text": [
      "/home/fbarnard/git-projects/msci546-project/.venv/lib/python3.10/site-packages/pytorch_lightning/trainer/trainer.py:1609: PossibleUserWarning: The number of training batches (30) is smaller than the logging interval Trainer(log_every_n_steps=64). Set a lower value for log_every_n_steps if you want to see logs for the training epoch.\n",
      "  rank_zero_warn(\n"
     ]
    },
    {
     "name": "stdout",
     "output_type": "stream",
     "text": [
      "Epoch 0:  50%|█████     | 23/46 [00:00<00:00, 66.65it/s, loss=899, v_num=4350]    "
     ]
    },
    {
     "name": "stderr",
     "output_type": "stream",
     "text": [
      "Epoch 0, global step 15: 'Validation loss' reached 3.45862 (best 3.45862), saving model to '/home/fbarnard/git-projects/msci546-project/models/logs/models/state_dict/0315174350/epoch=0-step=15.ckpt' as top 5\n"
     ]
    },
    {
     "name": "stdout",
     "output_type": "stream",
     "text": [
      "Epoch 0: 100%|██████████| 46/46 [00:00<00:00, 80.25it/s, loss=572, v_num=4350]"
     ]
    },
    {
     "name": "stderr",
     "output_type": "stream",
     "text": [
      "Epoch 0, global step 30: 'Validation loss' reached 2.95492 (best 2.95492), saving model to '/home/fbarnard/git-projects/msci546-project/models/logs/models/state_dict/0315174350/epoch=0-step=30.ckpt' as top 5\n"
     ]
    },
    {
     "name": "stdout",
     "output_type": "stream",
     "text": [
      "Epoch 1:  50%|█████     | 23/46 [00:00<00:00, 66.49it/s, loss=597, v_num=4350]"
     ]
    },
    {
     "name": "stderr",
     "output_type": "stream",
     "text": [
      "Epoch 1, global step 45: 'Validation loss' reached 2.43559 (best 2.43559), saving model to '/home/fbarnard/git-projects/msci546-project/models/logs/models/state_dict/0315174350/epoch=1-step=45.ckpt' as top 5\n"
     ]
    },
    {
     "name": "stdout",
     "output_type": "stream",
     "text": [
      "Epoch 1: 100%|██████████| 46/46 [00:00<00:00, 77.91it/s, loss=327, v_num=4350]"
     ]
    },
    {
     "name": "stderr",
     "output_type": "stream",
     "text": [
      "Epoch 1, global step 60: 'Validation loss' reached 1.95609 (best 1.95609), saving model to '/home/fbarnard/git-projects/msci546-project/models/logs/models/state_dict/0315174350/epoch=1-step=60.ckpt' as top 5\n"
     ]
    },
    {
     "name": "stdout",
     "output_type": "stream",
     "text": [
      "Epoch 2:  50%|█████     | 23/46 [00:00<00:00, 63.68it/s, loss=331, v_num=4350]"
     ]
    },
    {
     "name": "stderr",
     "output_type": "stream",
     "text": [
      "Epoch 2, global step 75: 'Validation loss' reached 1.57067 (best 1.57067), saving model to '/home/fbarnard/git-projects/msci546-project/models/logs/models/state_dict/0315174350/epoch=2-step=75.ckpt' as top 5\n"
     ]
    },
    {
     "name": "stdout",
     "output_type": "stream",
     "text": [
      "Epoch 2: 100%|██████████| 46/46 [00:00<00:00, 77.20it/s, loss=169, v_num=4350]"
     ]
    },
    {
     "name": "stderr",
     "output_type": "stream",
     "text": [
      "Epoch 2, global step 90: 'Validation loss' reached 1.42440 (best 1.42440), saving model to '/home/fbarnard/git-projects/msci546-project/models/logs/models/state_dict/0315174350/epoch=2-step=90.ckpt' as top 5\n"
     ]
    },
    {
     "name": "stdout",
     "output_type": "stream",
     "text": [
      "Epoch 3:  50%|█████     | 23/46 [00:00<00:00, 65.65it/s, loss=230, v_num=4350]"
     ]
    },
    {
     "name": "stderr",
     "output_type": "stream",
     "text": [
      "Epoch 3, global step 105: 'Validation loss' reached 1.37282 (best 1.37282), saving model to '/home/fbarnard/git-projects/msci546-project/models/logs/models/state_dict/0315174350/epoch=3-step=105.ckpt' as top 5\n"
     ]
    },
    {
     "name": "stdout",
     "output_type": "stream",
     "text": [
      "Epoch 3: 100%|██████████| 46/46 [00:00<00:00, 77.71it/s, loss=135, v_num=4350]"
     ]
    },
    {
     "name": "stderr",
     "output_type": "stream",
     "text": [
      "Epoch 3, global step 120: 'Validation loss' reached 1.32857 (best 1.32857), saving model to '/home/fbarnard/git-projects/msci546-project/models/logs/models/state_dict/0315174350/epoch=3-step=120.ckpt' as top 5\n"
     ]
    },
    {
     "name": "stdout",
     "output_type": "stream",
     "text": [
      "Epoch 4:  50%|█████     | 23/46 [00:00<00:00, 61.09it/s, loss=218, v_num=4350]"
     ]
    },
    {
     "name": "stderr",
     "output_type": "stream",
     "text": [
      "Epoch 4, global step 135: 'Validation loss' reached 1.30226 (best 1.30226), saving model to '/home/fbarnard/git-projects/msci546-project/models/logs/models/state_dict/0315174350/epoch=4-step=135.ckpt' as top 5\n"
     ]
    },
    {
     "name": "stdout",
     "output_type": "stream",
     "text": [
      "Epoch 4: 100%|██████████| 46/46 [00:00<00:00, 76.38it/s, loss=125, v_num=4350]"
     ]
    },
    {
     "name": "stderr",
     "output_type": "stream",
     "text": [
      "Epoch 4, global step 150: 'Validation loss' reached 1.27353 (best 1.27353), saving model to '/home/fbarnard/git-projects/msci546-project/models/logs/models/state_dict/0315174350/epoch=4-step=150.ckpt' as top 5\n"
     ]
    },
    {
     "name": "stdout",
     "output_type": "stream",
     "text": [
      "Epoch 5:  50%|█████     | 23/46 [00:00<00:00, 66.35it/s, loss=212, v_num=4350]"
     ]
    },
    {
     "name": "stderr",
     "output_type": "stream",
     "text": [
      "Epoch 5, global step 165: 'Validation loss' reached 1.26439 (best 1.26439), saving model to '/home/fbarnard/git-projects/msci546-project/models/logs/models/state_dict/0315174350/epoch=5-step=165.ckpt' as top 5\n"
     ]
    },
    {
     "name": "stdout",
     "output_type": "stream",
     "text": [
      "Epoch 5: 100%|██████████| 46/46 [00:00<00:00, 78.77it/s, loss=119, v_num=4350]"
     ]
    },
    {
     "name": "stderr",
     "output_type": "stream",
     "text": [
      "Epoch 5, global step 180: 'Validation loss' reached 1.24690 (best 1.24690), saving model to '/home/fbarnard/git-projects/msci546-project/models/logs/models/state_dict/0315174350/epoch=5-step=180.ckpt' as top 5\n"
     ]
    },
    {
     "name": "stdout",
     "output_type": "stream",
     "text": [
      "Epoch 6:  50%|█████     | 23/46 [00:00<00:00, 63.98it/s, loss=208, v_num=4350]"
     ]
    },
    {
     "name": "stderr",
     "output_type": "stream",
     "text": [
      "Epoch 6, global step 195: 'Validation loss' reached 1.24574 (best 1.24574), saving model to '/home/fbarnard/git-projects/msci546-project/models/logs/models/state_dict/0315174350/epoch=6-step=195.ckpt' as top 5\n"
     ]
    },
    {
     "name": "stdout",
     "output_type": "stream",
     "text": [
      "Epoch 6: 100%|██████████| 46/46 [00:00<00:00, 77.61it/s, loss=116, v_num=4350]"
     ]
    },
    {
     "name": "stderr",
     "output_type": "stream",
     "text": [
      "Epoch 6, global step 210: 'Validation loss' reached 1.22905 (best 1.22905), saving model to '/home/fbarnard/git-projects/msci546-project/models/logs/models/state_dict/0315174350/epoch=6-step=210.ckpt' as top 5\n"
     ]
    },
    {
     "name": "stdout",
     "output_type": "stream",
     "text": [
      "Epoch 7:  50%|█████     | 23/46 [00:00<00:00, 65.18it/s, loss=205, v_num=4350]"
     ]
    },
    {
     "name": "stderr",
     "output_type": "stream",
     "text": [
      "Epoch 7, global step 225: 'Validation loss' reached 1.23016 (best 1.22905), saving model to '/home/fbarnard/git-projects/msci546-project/models/logs/models/state_dict/0315174350/epoch=7-step=225.ckpt' as top 5\n"
     ]
    },
    {
     "name": "stdout",
     "output_type": "stream",
     "text": [
      "Epoch 7: 100%|██████████| 46/46 [00:00<00:00, 78.09it/s, loss=113, v_num=4350]"
     ]
    },
    {
     "name": "stderr",
     "output_type": "stream",
     "text": [
      "Epoch 7, global step 240: 'Validation loss' reached 1.21530 (best 1.21530), saving model to '/home/fbarnard/git-projects/msci546-project/models/logs/models/state_dict/0315174350/epoch=7-step=240.ckpt' as top 5\n"
     ]
    },
    {
     "name": "stdout",
     "output_type": "stream",
     "text": [
      "Epoch 8:  50%|█████     | 23/46 [00:00<00:00, 65.94it/s, loss=203, v_num=4350]"
     ]
    },
    {
     "name": "stderr",
     "output_type": "stream",
     "text": [
      "Epoch 8, global step 255: 'Validation loss' reached 1.21896 (best 1.21530), saving model to '/home/fbarnard/git-projects/msci546-project/models/logs/models/state_dict/0315174350/epoch=8-step=255.ckpt' as top 5\n"
     ]
    },
    {
     "name": "stdout",
     "output_type": "stream",
     "text": [
      "Epoch 8: 100%|██████████| 46/46 [00:00<00:00, 80.06it/s, loss=111, v_num=4350]"
     ]
    },
    {
     "name": "stderr",
     "output_type": "stream",
     "text": [
      "Epoch 8, global step 270: 'Validation loss' reached 1.20426 (best 1.20426), saving model to '/home/fbarnard/git-projects/msci546-project/models/logs/models/state_dict/0315174350/epoch=8-step=270.ckpt' as top 5\n"
     ]
    },
    {
     "name": "stdout",
     "output_type": "stream",
     "text": [
      "Epoch 9:  50%|█████     | 23/46 [00:00<00:00, 60.87it/s, loss=201, v_num=4350]"
     ]
    },
    {
     "name": "stderr",
     "output_type": "stream",
     "text": [
      "Epoch 9, global step 285: 'Validation loss' reached 1.20896 (best 1.20426), saving model to '/home/fbarnard/git-projects/msci546-project/models/logs/models/state_dict/0315174350/epoch=9-step=285.ckpt' as top 5\n"
     ]
    },
    {
     "name": "stdout",
     "output_type": "stream",
     "text": [
      "Epoch 9: 100%|██████████| 46/46 [00:00<00:00, 74.36it/s, loss=109, v_num=4350]"
     ]
    },
    {
     "name": "stderr",
     "output_type": "stream",
     "text": [
      "Epoch 9, global step 300: 'Validation loss' reached 1.19425 (best 1.19425), saving model to '/home/fbarnard/git-projects/msci546-project/models/logs/models/state_dict/0315174350/epoch=9-step=300.ckpt' as top 5\n"
     ]
    },
    {
     "name": "stdout",
     "output_type": "stream",
     "text": [
      "Epoch 10:  50%|█████     | 23/46 [00:00<00:00, 65.59it/s, loss=200, v_num=4350]"
     ]
    },
    {
     "name": "stderr",
     "output_type": "stream",
     "text": [
      "Epoch 10, global step 315: 'Validation loss' reached 1.20068 (best 1.19425), saving model to '/home/fbarnard/git-projects/msci546-project/models/logs/models/state_dict/0315174350/epoch=10-step=315.ckpt' as top 5\n"
     ]
    },
    {
     "name": "stdout",
     "output_type": "stream",
     "text": [
      "Epoch 10: 100%|██████████| 46/46 [00:00<00:00, 79.58it/s, loss=107, v_num=4350]"
     ]
    },
    {
     "name": "stderr",
     "output_type": "stream",
     "text": [
      "Epoch 10, global step 330: 'Validation loss' reached 1.18527 (best 1.18527), saving model to '/home/fbarnard/git-projects/msci546-project/models/logs/models/state_dict/0315174350/epoch=10-step=330.ckpt' as top 5\n"
     ]
    },
    {
     "name": "stdout",
     "output_type": "stream",
     "text": [
      "Epoch 11:  50%|█████     | 23/46 [00:00<00:00, 63.22it/s, loss=198, v_num=4350]"
     ]
    },
    {
     "name": "stderr",
     "output_type": "stream",
     "text": [
      "Epoch 11, global step 345: 'Validation loss' reached 1.19323 (best 1.18527), saving model to '/home/fbarnard/git-projects/msci546-project/models/logs/models/state_dict/0315174350/epoch=11-step=345.ckpt' as top 5\n"
     ]
    },
    {
     "name": "stdout",
     "output_type": "stream",
     "text": [
      "Epoch 11: 100%|██████████| 46/46 [00:00<00:00, 73.63it/s, loss=106, v_num=4350]"
     ]
    },
    {
     "name": "stderr",
     "output_type": "stream",
     "text": [
      "Epoch 11, global step 360: 'Validation loss' reached 1.17712 (best 1.17712), saving model to '/home/fbarnard/git-projects/msci546-project/models/logs/models/state_dict/0315174350/epoch=11-step=360.ckpt' as top 5\n"
     ]
    },
    {
     "name": "stdout",
     "output_type": "stream",
     "text": [
      "Epoch 12:  50%|█████     | 23/46 [00:00<00:00, 62.95it/s, loss=197, v_num=4350]"
     ]
    },
    {
     "name": "stderr",
     "output_type": "stream",
     "text": [
      "Epoch 12, global step 375: 'Validation loss' reached 1.18815 (best 1.17712), saving model to '/home/fbarnard/git-projects/msci546-project/models/logs/models/state_dict/0315174350/epoch=12-step=375.ckpt' as top 5\n"
     ]
    },
    {
     "name": "stdout",
     "output_type": "stream",
     "text": [
      "Epoch 12: 100%|██████████| 46/46 [00:00<00:00, 78.34it/s, loss=104, v_num=4350]"
     ]
    },
    {
     "name": "stderr",
     "output_type": "stream",
     "text": [
      "Epoch 12, global step 390: 'Validation loss' reached 1.17033 (best 1.17033), saving model to '/home/fbarnard/git-projects/msci546-project/models/logs/models/state_dict/0315174350/epoch=12-step=390.ckpt' as top 5\n"
     ]
    },
    {
     "name": "stdout",
     "output_type": "stream",
     "text": [
      "Epoch 13:  50%|█████     | 23/46 [00:00<00:00, 67.14it/s, loss=195, v_num=4350]"
     ]
    },
    {
     "name": "stderr",
     "output_type": "stream",
     "text": [
      "Epoch 13, global step 405: 'Validation loss' reached 1.18313 (best 1.17033), saving model to '/home/fbarnard/git-projects/msci546-project/models/logs/models/state_dict/0315174350/epoch=13-step=405.ckpt' as top 5\n"
     ]
    },
    {
     "name": "stdout",
     "output_type": "stream",
     "text": [
      "Epoch 13: 100%|██████████| 46/46 [00:00<00:00, 77.73it/s, loss=103, v_num=4350]"
     ]
    },
    {
     "name": "stderr",
     "output_type": "stream",
     "text": [
      "Epoch 13, global step 420: 'Validation loss' reached 1.16433 (best 1.16433), saving model to '/home/fbarnard/git-projects/msci546-project/models/logs/models/state_dict/0315174350/epoch=13-step=420.ckpt' as top 5\n"
     ]
    },
    {
     "name": "stdout",
     "output_type": "stream",
     "text": [
      "Epoch 14:  50%|█████     | 23/46 [00:00<00:00, 63.50it/s, loss=194, v_num=4350]"
     ]
    },
    {
     "name": "stderr",
     "output_type": "stream",
     "text": [
      "Epoch 14, global step 435: 'Validation loss' reached 1.17873 (best 1.16433), saving model to '/home/fbarnard/git-projects/msci546-project/models/logs/models/state_dict/0315174350/epoch=14-step=435.ckpt' as top 5\n"
     ]
    },
    {
     "name": "stdout",
     "output_type": "stream",
     "text": [
      "Epoch 14: 100%|██████████| 46/46 [00:00<00:00, 75.00it/s, loss=101, v_num=4350]"
     ]
    },
    {
     "name": "stderr",
     "output_type": "stream",
     "text": [
      "Epoch 14, global step 450: 'Validation loss' reached 1.15882 (best 1.15882), saving model to '/home/fbarnard/git-projects/msci546-project/models/logs/models/state_dict/0315174350/epoch=14-step=450.ckpt' as top 5\n"
     ]
    },
    {
     "name": "stdout",
     "output_type": "stream",
     "text": [
      "Epoch 15:  50%|█████     | 23/46 [00:00<00:00, 67.66it/s, loss=192, v_num=4350]"
     ]
    },
    {
     "name": "stderr",
     "output_type": "stream",
     "text": [
      "Epoch 15, global step 465: 'Validation loss' reached 1.17469 (best 1.15882), saving model to '/home/fbarnard/git-projects/msci546-project/models/logs/models/state_dict/0315174350/epoch=15-step=465.ckpt' as top 5\n"
     ]
    },
    {
     "name": "stdout",
     "output_type": "stream",
     "text": [
      "Epoch 15: 100%|██████████| 46/46 [00:00<00:00, 81.25it/s, loss=100, v_num=4350]"
     ]
    },
    {
     "name": "stderr",
     "output_type": "stream",
     "text": [
      "Epoch 15, global step 480: 'Validation loss' reached 1.15420 (best 1.15420), saving model to '/home/fbarnard/git-projects/msci546-project/models/logs/models/state_dict/0315174350/epoch=15-step=480.ckpt' as top 5\n"
     ]
    },
    {
     "name": "stdout",
     "output_type": "stream",
     "text": [
      "Epoch 16:  50%|█████     | 23/46 [00:00<00:00, 63.31it/s, loss=191, v_num=4350]"
     ]
    },
    {
     "name": "stderr",
     "output_type": "stream",
     "text": [
      "Epoch 16, global step 495: 'Validation loss' reached 1.17092 (best 1.15420), saving model to '/home/fbarnard/git-projects/msci546-project/models/logs/models/state_dict/0315174350/epoch=16-step=495.ckpt' as top 5\n"
     ]
    },
    {
     "name": "stdout",
     "output_type": "stream",
     "text": [
      "Epoch 16: 100%|██████████| 46/46 [00:00<00:00, 74.13it/s, loss=98.8, v_num=4350]"
     ]
    },
    {
     "name": "stderr",
     "output_type": "stream",
     "text": [
      "Epoch 16, global step 510: 'Validation loss' reached 1.15009 (best 1.15009), saving model to '/home/fbarnard/git-projects/msci546-project/models/logs/models/state_dict/0315174350/epoch=16-step=510.ckpt' as top 5\n"
     ]
    },
    {
     "name": "stdout",
     "output_type": "stream",
     "text": [
      "Epoch 17:  50%|█████     | 23/46 [00:00<00:00, 65.49it/s, loss=189, v_num=4350] "
     ]
    },
    {
     "name": "stderr",
     "output_type": "stream",
     "text": [
      "Epoch 17, global step 525: 'Validation loss' reached 1.16727 (best 1.15009), saving model to '/home/fbarnard/git-projects/msci546-project/models/logs/models/state_dict/0315174350/epoch=17-step=525.ckpt' as top 5\n"
     ]
    },
    {
     "name": "stdout",
     "output_type": "stream",
     "text": [
      "Epoch 17: 100%|██████████| 46/46 [00:00<00:00, 74.86it/s, loss=97.5, v_num=4350]"
     ]
    },
    {
     "name": "stderr",
     "output_type": "stream",
     "text": [
      "Epoch 17, global step 540: 'Validation loss' reached 1.14587 (best 1.14587), saving model to '/home/fbarnard/git-projects/msci546-project/models/logs/models/state_dict/0315174350/epoch=17-step=540.ckpt' as top 5\n"
     ]
    },
    {
     "name": "stdout",
     "output_type": "stream",
     "text": [
      "Epoch 18:  50%|█████     | 23/46 [00:00<00:00, 62.70it/s, loss=188, v_num=4350] "
     ]
    },
    {
     "name": "stderr",
     "output_type": "stream",
     "text": [
      "Epoch 18, global step 555: 'Validation loss' was not in top 5\n"
     ]
    },
    {
     "name": "stdout",
     "output_type": "stream",
     "text": [
      "Epoch 18: 100%|██████████| 46/46 [00:00<00:00, 74.45it/s, loss=96.3, v_num=4350]"
     ]
    },
    {
     "name": "stderr",
     "output_type": "stream",
     "text": [
      "Epoch 18, global step 570: 'Validation loss' reached 1.14280 (best 1.14280), saving model to '/home/fbarnard/git-projects/msci546-project/models/logs/models/state_dict/0315174350/epoch=18-step=570.ckpt' as top 5\n"
     ]
    },
    {
     "name": "stdout",
     "output_type": "stream",
     "text": [
      "Epoch 19:  50%|█████     | 23/46 [00:00<00:00, 54.72it/s, loss=186, v_num=4350] "
     ]
    },
    {
     "name": "stderr",
     "output_type": "stream",
     "text": [
      "Epoch 19, global step 585: 'Validation loss' was not in top 5\n"
     ]
    },
    {
     "name": "stdout",
     "output_type": "stream",
     "text": [
      "Epoch 19: 100%|██████████| 46/46 [00:00<00:00, 68.27it/s, loss=95, v_num=4350]  "
     ]
    },
    {
     "name": "stderr",
     "output_type": "stream",
     "text": [
      "Epoch 19, global step 600: 'Validation loss' reached 1.13923 (best 1.13923), saving model to '/home/fbarnard/git-projects/msci546-project/models/logs/models/state_dict/0315174350/epoch=19-step=600.ckpt' as top 5\n"
     ]
    },
    {
     "name": "stdout",
     "output_type": "stream",
     "text": [
      "Epoch 20:  50%|█████     | 23/46 [00:00<00:00, 60.73it/s, loss=185, v_num=4350]"
     ]
    },
    {
     "name": "stderr",
     "output_type": "stream",
     "text": [
      "Epoch 20, global step 615: 'Validation loss' was not in top 5\n"
     ]
    },
    {
     "name": "stdout",
     "output_type": "stream",
     "text": [
      "Epoch 20: 100%|██████████| 46/46 [00:00<00:00, 74.61it/s, loss=93.7, v_num=4350]"
     ]
    },
    {
     "name": "stderr",
     "output_type": "stream",
     "text": [
      "Epoch 20, global step 630: 'Validation loss' reached 1.13647 (best 1.13647), saving model to '/home/fbarnard/git-projects/msci546-project/models/logs/models/state_dict/0315174350/epoch=20-step=630.ckpt' as top 5\n"
     ]
    },
    {
     "name": "stdout",
     "output_type": "stream",
     "text": [
      "Epoch 21:  50%|█████     | 23/46 [00:00<00:00, 58.36it/s, loss=183, v_num=4350] "
     ]
    },
    {
     "name": "stderr",
     "output_type": "stream",
     "text": [
      "Epoch 21, global step 645: 'Validation loss' was not in top 5\n"
     ]
    },
    {
     "name": "stdout",
     "output_type": "stream",
     "text": [
      "Epoch 21: 100%|██████████| 46/46 [00:00<00:00, 72.52it/s, loss=92.4, v_num=4350]"
     ]
    },
    {
     "name": "stderr",
     "output_type": "stream",
     "text": [
      "Epoch 21, global step 660: 'Validation loss' reached 1.13335 (best 1.13335), saving model to '/home/fbarnard/git-projects/msci546-project/models/logs/models/state_dict/0315174350/epoch=21-step=660.ckpt' as top 5\n"
     ]
    },
    {
     "name": "stdout",
     "output_type": "stream",
     "text": [
      "Epoch 22:  50%|█████     | 23/46 [00:00<00:00, 63.13it/s, loss=181, v_num=4350] "
     ]
    },
    {
     "name": "stderr",
     "output_type": "stream",
     "text": [
      "Epoch 22, global step 675: 'Validation loss' was not in top 5\n"
     ]
    },
    {
     "name": "stdout",
     "output_type": "stream",
     "text": [
      "Epoch 22: 100%|██████████| 46/46 [00:00<00:00, 75.98it/s, loss=91.1, v_num=4350]"
     ]
    },
    {
     "name": "stderr",
     "output_type": "stream",
     "text": [
      "Epoch 22, global step 690: 'Validation loss' reached 1.13060 (best 1.13060), saving model to '/home/fbarnard/git-projects/msci546-project/models/logs/models/state_dict/0315174350/epoch=22-step=690.ckpt' as top 5\n"
     ]
    },
    {
     "name": "stdout",
     "output_type": "stream",
     "text": [
      "Epoch 23:  50%|█████     | 23/46 [00:00<00:00, 62.38it/s, loss=180, v_num=4350] "
     ]
    },
    {
     "name": "stderr",
     "output_type": "stream",
     "text": [
      "Epoch 23, global step 705: 'Validation loss' was not in top 5\n"
     ]
    },
    {
     "name": "stdout",
     "output_type": "stream",
     "text": [
      "Epoch 23: 100%|██████████| 46/46 [00:00<00:00, 75.37it/s, loss=89.8, v_num=4350]"
     ]
    },
    {
     "name": "stderr",
     "output_type": "stream",
     "text": [
      "Epoch 23, global step 720: 'Validation loss' reached 1.12806 (best 1.12806), saving model to '/home/fbarnard/git-projects/msci546-project/models/logs/models/state_dict/0315174350/epoch=23-step=720.ckpt' as top 5\n"
     ]
    },
    {
     "name": "stdout",
     "output_type": "stream",
     "text": [
      "Epoch 24:  50%|█████     | 23/46 [00:00<00:00, 65.85it/s, loss=178, v_num=4350] "
     ]
    },
    {
     "name": "stderr",
     "output_type": "stream",
     "text": [
      "Epoch 24, global step 735: 'Validation loss' was not in top 5\n"
     ]
    },
    {
     "name": "stdout",
     "output_type": "stream",
     "text": [
      "Epoch 24: 100%|██████████| 46/46 [00:00<00:00, 81.07it/s, loss=88.6, v_num=4350]"
     ]
    },
    {
     "name": "stderr",
     "output_type": "stream",
     "text": [
      "Epoch 24, global step 750: 'Validation loss' reached 1.12665 (best 1.12665), saving model to '/home/fbarnard/git-projects/msci546-project/models/logs/models/state_dict/0315174350/epoch=24-step=750.ckpt' as top 5\n"
     ]
    },
    {
     "name": "stdout",
     "output_type": "stream",
     "text": [
      "Epoch 25:  50%|█████     | 23/46 [00:00<00:00, 59.54it/s, loss=176, v_num=4350] "
     ]
    },
    {
     "name": "stderr",
     "output_type": "stream",
     "text": [
      "Epoch 25, global step 765: 'Validation loss' was not in top 5\n"
     ]
    },
    {
     "name": "stdout",
     "output_type": "stream",
     "text": [
      "Epoch 25: 100%|██████████| 46/46 [00:00<00:00, 71.22it/s, loss=87.3, v_num=4350]"
     ]
    },
    {
     "name": "stderr",
     "output_type": "stream",
     "text": [
      "Epoch 25, global step 780: 'Validation loss' reached 1.12508 (best 1.12508), saving model to '/home/fbarnard/git-projects/msci546-project/models/logs/models/state_dict/0315174350/epoch=25-step=780.ckpt' as top 5\n"
     ]
    },
    {
     "name": "stdout",
     "output_type": "stream",
     "text": [
      "Epoch 26:  50%|█████     | 23/46 [00:00<00:00, 58.99it/s, loss=175, v_num=4350] "
     ]
    },
    {
     "name": "stderr",
     "output_type": "stream",
     "text": [
      "Epoch 26, global step 795: 'Validation loss' was not in top 5\n"
     ]
    },
    {
     "name": "stdout",
     "output_type": "stream",
     "text": [
      "Epoch 26: 100%|██████████| 46/46 [00:00<00:00, 67.97it/s, loss=86, v_num=4350]  "
     ]
    },
    {
     "name": "stderr",
     "output_type": "stream",
     "text": [
      "Epoch 26, global step 810: 'Validation loss' reached 1.12374 (best 1.12374), saving model to '/home/fbarnard/git-projects/msci546-project/models/logs/models/state_dict/0315174350/epoch=26-step=810.ckpt' as top 5\n"
     ]
    },
    {
     "name": "stdout",
     "output_type": "stream",
     "text": [
      "Epoch 27:  50%|█████     | 23/46 [00:00<00:00, 55.04it/s, loss=173, v_num=4350]"
     ]
    },
    {
     "name": "stderr",
     "output_type": "stream",
     "text": [
      "Epoch 27, global step 825: 'Validation loss' was not in top 5\n"
     ]
    },
    {
     "name": "stdout",
     "output_type": "stream",
     "text": [
      "Epoch 27: 100%|██████████| 46/46 [00:00<00:00, 65.91it/s, loss=84.8, v_num=4350]"
     ]
    },
    {
     "name": "stderr",
     "output_type": "stream",
     "text": [
      "Epoch 27, global step 840: 'Validation loss' reached 1.12258 (best 1.12258), saving model to '/home/fbarnard/git-projects/msci546-project/models/logs/models/state_dict/0315174350/epoch=27-step=840.ckpt' as top 5\n"
     ]
    },
    {
     "name": "stdout",
     "output_type": "stream",
     "text": [
      "Epoch 28:  50%|█████     | 23/46 [00:00<00:00, 55.91it/s, loss=171, v_num=4350] "
     ]
    },
    {
     "name": "stderr",
     "output_type": "stream",
     "text": [
      "Epoch 28, global step 855: 'Validation loss' was not in top 5\n"
     ]
    },
    {
     "name": "stdout",
     "output_type": "stream",
     "text": [
      "Epoch 28: 100%|██████████| 46/46 [00:00<00:00, 68.27it/s, loss=83.6, v_num=4350]"
     ]
    },
    {
     "name": "stderr",
     "output_type": "stream",
     "text": [
      "Epoch 28, global step 870: 'Validation loss' reached 1.12197 (best 1.12197), saving model to '/home/fbarnard/git-projects/msci546-project/models/logs/models/state_dict/0315174350/epoch=28-step=870.ckpt' as top 5\n"
     ]
    },
    {
     "name": "stdout",
     "output_type": "stream",
     "text": [
      "Epoch 29:  50%|█████     | 23/46 [00:00<00:00, 59.05it/s, loss=170, v_num=4350] "
     ]
    },
    {
     "name": "stderr",
     "output_type": "stream",
     "text": [
      "Epoch 29, global step 885: 'Validation loss' was not in top 5\n"
     ]
    },
    {
     "name": "stdout",
     "output_type": "stream",
     "text": [
      "Epoch 29: 100%|██████████| 46/46 [00:00<00:00, 74.02it/s, loss=82.6, v_num=4350]"
     ]
    },
    {
     "name": "stderr",
     "output_type": "stream",
     "text": [
      "Epoch 29, global step 900: 'Validation loss' reached 1.12202 (best 1.12197), saving model to '/home/fbarnard/git-projects/msci546-project/models/logs/models/state_dict/0315174350/epoch=29-step=900.ckpt' as top 5\n"
     ]
    },
    {
     "name": "stdout",
     "output_type": "stream",
     "text": [
      "Epoch 30:  50%|█████     | 23/46 [00:00<00:00, 70.14it/s, loss=168, v_num=4350] "
     ]
    },
    {
     "name": "stderr",
     "output_type": "stream",
     "text": [
      "Epoch 30, global step 915: 'Validation loss' was not in top 5\n"
     ]
    },
    {
     "name": "stdout",
     "output_type": "stream",
     "text": [
      "Epoch 30: 100%|██████████| 46/46 [00:00<00:00, 83.81it/s, loss=81.4, v_num=4350]"
     ]
    },
    {
     "name": "stderr",
     "output_type": "stream",
     "text": [
      "Epoch 30, global step 930: 'Validation loss' reached 1.12450 (best 1.12197), saving model to '/home/fbarnard/git-projects/msci546-project/models/logs/models/state_dict/0315174350/epoch=30-step=930.ckpt' as top 5\n"
     ]
    },
    {
     "name": "stdout",
     "output_type": "stream",
     "text": [
      "Epoch 31:  50%|█████     | 23/46 [00:00<00:00, 69.86it/s, loss=167, v_num=4350] "
     ]
    },
    {
     "name": "stderr",
     "output_type": "stream",
     "text": [
      "Epoch 31, global step 945: 'Validation loss' was not in top 5\n"
     ]
    },
    {
     "name": "stdout",
     "output_type": "stream",
     "text": [
      "Epoch 31: 100%|██████████| 46/46 [00:00<00:00, 84.03it/s, loss=80.3, v_num=4350]"
     ]
    },
    {
     "name": "stderr",
     "output_type": "stream",
     "text": [
      "Epoch 31, global step 960: 'Validation loss' was not in top 5\n"
     ]
    },
    {
     "name": "stdout",
     "output_type": "stream",
     "text": [
      "Epoch 32:  50%|█████     | 23/46 [00:00<00:00, 64.47it/s, loss=165, v_num=4350] "
     ]
    },
    {
     "name": "stderr",
     "output_type": "stream",
     "text": [
      "Epoch 32, global step 975: 'Validation loss' was not in top 5\n"
     ]
    },
    {
     "name": "stdout",
     "output_type": "stream",
     "text": [
      "Epoch 32: 100%|██████████| 46/46 [00:00<00:00, 78.99it/s, loss=79.4, v_num=4350]"
     ]
    },
    {
     "name": "stderr",
     "output_type": "stream",
     "text": [
      "Epoch 32, global step 990: 'Validation loss' was not in top 5\n"
     ]
    },
    {
     "name": "stdout",
     "output_type": "stream",
     "text": [
      "Epoch 33:  50%|█████     | 23/46 [00:00<00:00, 67.36it/s, loss=164, v_num=4350] "
     ]
    },
    {
     "name": "stderr",
     "output_type": "stream",
     "text": [
      "Epoch 33, global step 1005: 'Validation loss' was not in top 5\n"
     ]
    },
    {
     "name": "stdout",
     "output_type": "stream",
     "text": [
      "Epoch 33: 100%|██████████| 46/46 [00:00<00:00, 73.97it/s, loss=78.3, v_num=4350]"
     ]
    },
    {
     "name": "stderr",
     "output_type": "stream",
     "text": [
      "Epoch 33, global step 1020: 'Validation loss' was not in top 5\n"
     ]
    },
    {
     "name": "stdout",
     "output_type": "stream",
     "text": [
      "Epoch 34:  50%|█████     | 23/46 [00:00<00:00, 58.22it/s, loss=163, v_num=4350] "
     ]
    },
    {
     "name": "stderr",
     "output_type": "stream",
     "text": [
      "Epoch 34, global step 1035: 'Validation loss' was not in top 5\n"
     ]
    },
    {
     "name": "stdout",
     "output_type": "stream",
     "text": [
      "Epoch 34: 100%|██████████| 46/46 [00:00<00:00, 70.29it/s, loss=77.5, v_num=4350]"
     ]
    },
    {
     "name": "stderr",
     "output_type": "stream",
     "text": [
      "Epoch 34, global step 1050: 'Validation loss' was not in top 5\n"
     ]
    },
    {
     "name": "stdout",
     "output_type": "stream",
     "text": [
      "Epoch 35:  50%|█████     | 23/46 [00:00<00:00, 57.13it/s, loss=161, v_num=4350] "
     ]
    },
    {
     "name": "stderr",
     "output_type": "stream",
     "text": [
      "Epoch 35, global step 1065: 'Validation loss' was not in top 5\n"
     ]
    },
    {
     "name": "stdout",
     "output_type": "stream",
     "text": [
      "Epoch 35: 100%|██████████| 46/46 [00:00<00:00, 71.71it/s, loss=76.5, v_num=4350]"
     ]
    },
    {
     "name": "stderr",
     "output_type": "stream",
     "text": [
      "Epoch 35, global step 1080: 'Validation loss' was not in top 5\n"
     ]
    },
    {
     "name": "stdout",
     "output_type": "stream",
     "text": [
      "Epoch 36:  50%|█████     | 23/46 [00:00<00:00, 59.95it/s, loss=160, v_num=4350] "
     ]
    },
    {
     "name": "stderr",
     "output_type": "stream",
     "text": [
      "Epoch 36, global step 1095: 'Validation loss' was not in top 5\n"
     ]
    },
    {
     "name": "stdout",
     "output_type": "stream",
     "text": [
      "Epoch 36: 100%|██████████| 46/46 [00:00<00:00, 69.14it/s, loss=75.6, v_num=4350]"
     ]
    },
    {
     "name": "stderr",
     "output_type": "stream",
     "text": [
      "Epoch 36, global step 1110: 'Validation loss' was not in top 5\n"
     ]
    },
    {
     "name": "stdout",
     "output_type": "stream",
     "text": [
      "Epoch 37:  50%|█████     | 23/46 [00:00<00:00, 57.87it/s, loss=159, v_num=4350] "
     ]
    },
    {
     "name": "stderr",
     "output_type": "stream",
     "text": [
      "Epoch 37, global step 1125: 'Validation loss' was not in top 5\n"
     ]
    },
    {
     "name": "stdout",
     "output_type": "stream",
     "text": [
      "Epoch 37: 100%|██████████| 46/46 [00:00<00:00, 68.37it/s, loss=74.9, v_num=4350]"
     ]
    },
    {
     "name": "stderr",
     "output_type": "stream",
     "text": [
      "Epoch 37, global step 1140: 'Validation loss' was not in top 5\n"
     ]
    },
    {
     "name": "stdout",
     "output_type": "stream",
     "text": [
      "Epoch 38:  50%|█████     | 23/46 [00:00<00:00, 49.81it/s, loss=158, v_num=4350] "
     ]
    },
    {
     "name": "stderr",
     "output_type": "stream",
     "text": [
      "Epoch 38, global step 1155: 'Validation loss' was not in top 5\n"
     ]
    },
    {
     "name": "stdout",
     "output_type": "stream",
     "text": [
      "Epoch 38: 100%|██████████| 46/46 [00:00<00:00, 62.29it/s, loss=73.9, v_num=4350]"
     ]
    },
    {
     "name": "stderr",
     "output_type": "stream",
     "text": [
      "Epoch 38, global step 1170: 'Validation loss' was not in top 5\n"
     ]
    },
    {
     "name": "stdout",
     "output_type": "stream",
     "text": [
      "Epoch 39:  50%|█████     | 23/46 [00:00<00:00, 60.23it/s, loss=156, v_num=4350] "
     ]
    },
    {
     "name": "stderr",
     "output_type": "stream",
     "text": [
      "Epoch 39, global step 1185: 'Validation loss' was not in top 5\n"
     ]
    },
    {
     "name": "stdout",
     "output_type": "stream",
     "text": [
      "Epoch 39: 100%|██████████| 46/46 [00:00<00:00, 71.80it/s, loss=73.3, v_num=4350]"
     ]
    },
    {
     "name": "stderr",
     "output_type": "stream",
     "text": [
      "Epoch 39, global step 1200: 'Validation loss' was not in top 5\n"
     ]
    },
    {
     "name": "stdout",
     "output_type": "stream",
     "text": [
      "Epoch 40:  50%|█████     | 23/46 [00:00<00:00, 58.96it/s, loss=155, v_num=4350] "
     ]
    },
    {
     "name": "stderr",
     "output_type": "stream",
     "text": [
      "Epoch 40, global step 1215: 'Validation loss' was not in top 5\n"
     ]
    },
    {
     "name": "stdout",
     "output_type": "stream",
     "text": [
      "Epoch 40: 100%|██████████| 46/46 [00:00<00:00, 72.29it/s, loss=72.3, v_num=4350]"
     ]
    },
    {
     "name": "stderr",
     "output_type": "stream",
     "text": [
      "Epoch 40, global step 1230: 'Validation loss' was not in top 5\n"
     ]
    },
    {
     "name": "stdout",
     "output_type": "stream",
     "text": [
      "Epoch 41:  50%|█████     | 23/46 [00:00<00:00, 65.74it/s, loss=154, v_num=4350] "
     ]
    },
    {
     "name": "stderr",
     "output_type": "stream",
     "text": [
      "Epoch 41, global step 1245: 'Validation loss' was not in top 5\n"
     ]
    },
    {
     "name": "stdout",
     "output_type": "stream",
     "text": [
      "Epoch 41: 100%|██████████| 46/46 [00:00<00:00, 79.72it/s, loss=71.7, v_num=4350]"
     ]
    },
    {
     "name": "stderr",
     "output_type": "stream",
     "text": [
      "Epoch 41, global step 1260: 'Validation loss' was not in top 5\n"
     ]
    },
    {
     "name": "stdout",
     "output_type": "stream",
     "text": [
      "Epoch 42:  50%|█████     | 23/46 [00:00<00:00, 68.47it/s, loss=153, v_num=4350] "
     ]
    },
    {
     "name": "stderr",
     "output_type": "stream",
     "text": [
      "Epoch 42, global step 1275: 'Validation loss' was not in top 5\n"
     ]
    },
    {
     "name": "stdout",
     "output_type": "stream",
     "text": [
      "Epoch 42: 100%|██████████| 46/46 [00:00<00:00, 85.35it/s, loss=70.8, v_num=4350]"
     ]
    },
    {
     "name": "stderr",
     "output_type": "stream",
     "text": [
      "Epoch 42, global step 1290: 'Validation loss' was not in top 5\n"
     ]
    },
    {
     "name": "stdout",
     "output_type": "stream",
     "text": [
      "Epoch 43:  50%|█████     | 23/46 [00:00<00:00, 61.31it/s, loss=152, v_num=4350] "
     ]
    },
    {
     "name": "stderr",
     "output_type": "stream",
     "text": [
      "Epoch 43, global step 1305: 'Validation loss' was not in top 5\n"
     ]
    },
    {
     "name": "stdout",
     "output_type": "stream",
     "text": [
      "Epoch 43: 100%|██████████| 46/46 [00:00<00:00, 73.23it/s, loss=70.2, v_num=4350]"
     ]
    },
    {
     "name": "stderr",
     "output_type": "stream",
     "text": [
      "Epoch 43, global step 1320: 'Validation loss' was not in top 5\n"
     ]
    },
    {
     "name": "stdout",
     "output_type": "stream",
     "text": [
      "Epoch 44:  50%|█████     | 23/46 [00:00<00:00, 62.68it/s, loss=151, v_num=4350] "
     ]
    },
    {
     "name": "stderr",
     "output_type": "stream",
     "text": [
      "Epoch 44, global step 1335: 'Validation loss' was not in top 5\n"
     ]
    },
    {
     "name": "stdout",
     "output_type": "stream",
     "text": [
      "Epoch 44: 100%|██████████| 46/46 [00:00<00:00, 77.42it/s, loss=69.6, v_num=4350]"
     ]
    },
    {
     "name": "stderr",
     "output_type": "stream",
     "text": [
      "Epoch 44, global step 1350: 'Validation loss' was not in top 5\n"
     ]
    },
    {
     "name": "stdout",
     "output_type": "stream",
     "text": [
      "Epoch 45:  50%|█████     | 23/46 [00:00<00:00, 68.52it/s, loss=150, v_num=4350] "
     ]
    },
    {
     "name": "stderr",
     "output_type": "stream",
     "text": [
      "Epoch 45, global step 1365: 'Validation loss' was not in top 5\n"
     ]
    },
    {
     "name": "stdout",
     "output_type": "stream",
     "text": [
      "Epoch 45: 100%|██████████| 46/46 [00:00<00:00, 80.17it/s, loss=68.7, v_num=4350]"
     ]
    },
    {
     "name": "stderr",
     "output_type": "stream",
     "text": [
      "Epoch 45, global step 1380: 'Validation loss' was not in top 5\n"
     ]
    },
    {
     "name": "stdout",
     "output_type": "stream",
     "text": [
      "Epoch 46:  50%|█████     | 23/46 [00:00<00:00, 63.78it/s, loss=149, v_num=4350] "
     ]
    },
    {
     "name": "stderr",
     "output_type": "stream",
     "text": [
      "Epoch 46, global step 1395: 'Validation loss' was not in top 5\n"
     ]
    },
    {
     "name": "stdout",
     "output_type": "stream",
     "text": [
      "Epoch 46: 100%|██████████| 46/46 [00:00<00:00, 79.44it/s, loss=68.1, v_num=4350]"
     ]
    },
    {
     "name": "stderr",
     "output_type": "stream",
     "text": [
      "Epoch 46, global step 1410: 'Validation loss' was not in top 5\n"
     ]
    },
    {
     "name": "stdout",
     "output_type": "stream",
     "text": [
      "Epoch 47:  50%|█████     | 23/46 [00:00<00:00, 57.22it/s, loss=148, v_num=4350] "
     ]
    },
    {
     "name": "stderr",
     "output_type": "stream",
     "text": [
      "Epoch 47, global step 1425: 'Validation loss' was not in top 5\n"
     ]
    },
    {
     "name": "stdout",
     "output_type": "stream",
     "text": [
      "Epoch 47: 100%|██████████| 46/46 [00:00<00:00, 67.87it/s, loss=67.5, v_num=4350]"
     ]
    },
    {
     "name": "stderr",
     "output_type": "stream",
     "text": [
      "Epoch 47, global step 1440: 'Validation loss' was not in top 5\n"
     ]
    },
    {
     "name": "stdout",
     "output_type": "stream",
     "text": [
      "Epoch 48:  50%|█████     | 23/46 [00:00<00:00, 62.24it/s, loss=147, v_num=4350] "
     ]
    },
    {
     "name": "stderr",
     "output_type": "stream",
     "text": [
      "Epoch 48, global step 1455: 'Validation loss' was not in top 5\n"
     ]
    },
    {
     "name": "stdout",
     "output_type": "stream",
     "text": [
      "Epoch 48: 100%|██████████| 46/46 [00:00<00:00, 74.60it/s, loss=66.6, v_num=4350]"
     ]
    },
    {
     "name": "stderr",
     "output_type": "stream",
     "text": [
      "Epoch 48, global step 1470: 'Validation loss' was not in top 5\n"
     ]
    },
    {
     "name": "stdout",
     "output_type": "stream",
     "text": [
      "Epoch 49:  50%|█████     | 23/46 [00:00<00:00, 60.10it/s, loss=146, v_num=4350] "
     ]
    },
    {
     "name": "stderr",
     "output_type": "stream",
     "text": [
      "Epoch 49, global step 1485: 'Validation loss' was not in top 5\n"
     ]
    },
    {
     "name": "stdout",
     "output_type": "stream",
     "text": [
      "Epoch 49: 100%|██████████| 46/46 [00:00<00:00, 76.67it/s, loss=66.2, v_num=4350]"
     ]
    },
    {
     "name": "stderr",
     "output_type": "stream",
     "text": [
      "Epoch 49, global step 1500: 'Validation loss' was not in top 5\n"
     ]
    },
    {
     "name": "stdout",
     "output_type": "stream",
     "text": [
      "Epoch 49: 100%|██████████| 46/46 [00:00<00:00, 76.22it/s, loss=66.2, v_num=4350]"
     ]
    },
    {
     "name": "stderr",
     "output_type": "stream",
     "text": [
      "`Trainer.fit` stopped: `max_epochs=50` reached.\n"
     ]
    },
    {
     "name": "stdout",
     "output_type": "stream",
     "text": [
      "Epoch 49: 100%|██████████| 46/46 [00:00<00:00, 76.06it/s, loss=66.2, v_num=4350]\n"
     ]
    }
   ],
   "source": [
    "trainer.fit(model, data_module)"
   ]
  },
  {
   "attachments": {},
   "cell_type": "markdown",
   "metadata": {},
   "source": [
    "# Test the model"
   ]
  },
  {
   "cell_type": "code",
   "execution_count": 95,
   "metadata": {},
   "outputs": [
    {
     "name": "stderr",
     "output_type": "stream",
     "text": [
      "Restoring states from the checkpoint path at /home/fbarnard/git-projects/msci546-project/models/logs/models/state_dict/0315174350/epoch=28-step=870.ckpt\n",
      "Loaded model weights from checkpoint at /home/fbarnard/git-projects/msci546-project/models/logs/models/state_dict/0315174350/epoch=28-step=870.ckpt\n"
     ]
    },
    {
     "name": "stdout",
     "output_type": "stream",
     "text": [
      "Testing DataLoader 0: 100%|██████████| 9/9 [00:00<00:00, 138.72it/s]\n",
      "────────────────────────────────────────────────────────────────────────────────────────────────────────────────────────\n",
      "       Test metric             DataLoader 0\n",
      "────────────────────────────────────────────────────────────────────────────────────────────────────────────────────────\n",
      "      Test MSE loss         1.9464675582541051\n",
      "     Test RMSE loss         1.3951586140127956\n",
      "        Test loss           0.8874702848667322\n",
      "────────────────────────────────────────────────────────────────────────────────────────────────────────────────────────\n"
     ]
    },
    {
     "data": {
      "text/plain": [
       "[{'Test loss': 0.8874702848667322,\n",
       "  'Test MSE loss': 1.9464675582541051,\n",
       "  'Test RMSE loss': 1.3951586140127956}]"
      ]
     },
     "execution_count": 95,
     "metadata": {},
     "output_type": "execute_result"
    },
    {
     "data": {
      "image/png": "[encoded data removed]",
      "text/plain": [
       "<Figure size 640x480 with 1 Axes>"
      ]
     },
     "metadata": {},
     "output_type": "display_data"
    }
   ],
   "source": [
    "trainer.test(model, ckpt_path='best', datamodule=data_module)"
   ]
  },
  {
   "attachments": {},
   "cell_type": "markdown",
   "metadata": {},
   "source": [
    "# Tensorboard"
   ]
  },
  {
   "cell_type": "code",
   "execution_count": 96,
   "metadata": {},
   "outputs": [
    {
     "data": {
      "text/plain": [
       "Reusing TensorBoard on port 6006 (pid 98100), started 0:01:07 ago. (Use '!kill 98100' to kill it.)"
      ]
     },
     "metadata": {},
     "output_type": "display_data"
    },
    {
     "data": {
      "text/html": [
       "\n",
       "      <iframe id=\"tensorboard-frame-1c80317fa3b1799d\" width=\"100%\" height=\"800\" frameborder=\"0\">\n",
       "      </iframe>\n",
       "      <script>\n",
       "        (function() {\n",
       "          const frame = document.getElementById(\"tensorboard-frame-1c80317fa3b1799d\");\n",
       "          const url = new URL(\"http://localhost\");\n",
       "          const port = 6006;\n",
       "          if (port) {\n",
       "            url.port = port;\n",
       "          }\n",
       "          frame.src = url;\n",
       "        })();\n",
       "      </script>\n",
       "    "
      ],
      "text/plain": [
       "<IPython.core.display.HTML object>"
      ]
     },
     "metadata": {},
     "output_type": "display_data"
    }
   ],
   "source": [
    "%load_ext tensorboard\n",
    "%tensorboard --logdir ./logs"
   ]
  }
 ],
 "metadata": {
  "kernelspec": {
   "display_name": ".venv",
   "language": "python",
   "name": "python3"
  },
  "language_info": {
   "codemirror_mode": {
    "name": "ipython",
    "version": 3
   },
   "file_extension": ".py",
   "mimetype": "text/x-python",
   "name": "python",
   "nbconvert_exporter": "python",
   "pygments_lexer": "ipython3",
   "version": "3.10.6"
  },
  "orig_nbformat": 4,
  "vscode": {
   "interpreter": {
    "hash": "486d2728f63c3feb11cecece89d3d8ff1400fa0a0d3858f254f88372bed99e70"
   }
  }
 },
 "nbformat": 4,
 "nbformat_minor": 2
}
