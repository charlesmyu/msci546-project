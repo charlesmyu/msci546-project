{
 "cells": [
  {
   "cell_type": "code",
   "execution_count": 95,
   "metadata": {},
   "outputs": [],
   "source": [
    "import pandas as pd\n",
    "import csv\n",
    "import os"
   ]
  },
  {
   "attachments": {},
   "cell_type": "markdown",
   "metadata": {},
   "source": [
    "# Parse Master\n",
    "Parses all census tables via the intermediary form and combines them into a master file with `cfips` and `year`. Also brings in density data from `density.csv`."
   ]
  },
  {
   "cell_type": "code",
   "execution_count": 96,
   "metadata": {},
   "outputs": [
    {
     "name": "stdout",
     "output_type": "stream",
     "text": [
      "   year data-year  cfips          county    state  microbusiness_density\n",
      "0  2019      2017   1001  Autauga County  Alabama               2.986972\n",
      "1  2019      2017   1003  Baldwin County  Alabama               7.370375\n",
      "2  2019      2017   1005  Barbour County  Alabama               1.046068\n",
      "3  2019      2017   1007     Bibb County  Alabama               1.278288\n",
      "4  2019      2017   1009   Blount County  Alabama               1.559113\n"
     ]
    }
   ],
   "source": [
    "# Parse `density.csv` first\n",
    "df = pd.read_csv('./density.csv')\n",
    "df['year'] = df['first_day_of_month'].apply(lambda x: int(x[:4]))\n",
    "df['data-year'] = df['year'].apply(lambda x: str(x-2))\n",
    "df = df.groupby(['year', 'data-year', 'cfips', 'county', 'state']).mean(numeric_only = True).reset_index()\n",
    "df = df.filter(items=['year', 'data-year', 'cfips', 'county', 'state', 'microbusiness_density'])\n",
    "print(df.head())\n",
    "\n",
    "# Grab all intermediate files and add in\n",
    "for path in os.listdir('./census-data'):\n",
    "    if not path == 'template':\n",
    "        table = pd.DataFrame()\n",
    "        for file in os.listdir('./census-data/' + path + '/parsed'):\n",
    "            year = file[:4]\n",
    "            temp = pd.read_csv('./census-data/' + path + '/parsed/' + file)\n",
    "\n",
    "            temp['data-year'] = year\n",
    "            table = pd.concat([table, temp])\n",
    "        df = pd.merge(df, table, how=\"left\", on=['cfips', 'data-year'])"
   ]
  },
  {
   "cell_type": "code",
   "execution_count": 97,
   "metadata": {},
   "outputs": [
    {
     "data": {
      "text/html": [
       "<div>\n",
       "<style scoped>\n",
       "    .dataframe tbody tr th:only-of-type {\n",
       "        vertical-align: middle;\n",
       "    }\n",
       "\n",
       "    .dataframe tbody tr th {\n",
       "        vertical-align: top;\n",
       "    }\n",
       "\n",
       "    .dataframe thead th {\n",
       "        text-align: right;\n",
       "    }\n",
       "</style>\n",
       "<table border=\"1\" class=\"dataframe\">\n",
       "  <thead>\n",
       "    <tr style=\"text-align: right;\">\n",
       "      <th></th>\n",
       "      <th>year</th>\n",
       "      <th>data-year</th>\n",
       "      <th>cfips</th>\n",
       "      <th>county</th>\n",
       "      <th>state</th>\n",
       "      <th>microbusiness_density</th>\n",
       "      <th>pct_unemployed</th>\n",
       "      <th>pct_broadband</th>\n",
       "      <th>pct_college</th>\n",
       "      <th>pct_it_workers</th>\n",
       "      <th>median_hh_inc</th>\n",
       "    </tr>\n",
       "  </thead>\n",
       "  <tbody>\n",
       "    <tr>\n",
       "      <th>0</th>\n",
       "      <td>2019</td>\n",
       "      <td>2017</td>\n",
       "      <td>1001</td>\n",
       "      <td>Autauga County</td>\n",
       "      <td>Alabama</td>\n",
       "      <td>2.986972</td>\n",
       "      <td>5.2</td>\n",
       "      <td>76.6</td>\n",
       "      <td>14.5</td>\n",
       "      <td>1.3</td>\n",
       "      <td>55317.0</td>\n",
       "    </tr>\n",
       "    <tr>\n",
       "      <th>1</th>\n",
       "      <td>2019</td>\n",
       "      <td>2017</td>\n",
       "      <td>1003</td>\n",
       "      <td>Baldwin County</td>\n",
       "      <td>Alabama</td>\n",
       "      <td>7.370375</td>\n",
       "      <td>5.5</td>\n",
       "      <td>74.5</td>\n",
       "      <td>20.4</td>\n",
       "      <td>1.4</td>\n",
       "      <td>52562.0</td>\n",
       "    </tr>\n",
       "    <tr>\n",
       "      <th>2</th>\n",
       "      <td>2019</td>\n",
       "      <td>2017</td>\n",
       "      <td>1005</td>\n",
       "      <td>Barbour County</td>\n",
       "      <td>Alabama</td>\n",
       "      <td>1.046068</td>\n",
       "      <td>12.4</td>\n",
       "      <td>57.2</td>\n",
       "      <td>7.6</td>\n",
       "      <td>0.5</td>\n",
       "      <td>33368.0</td>\n",
       "    </tr>\n",
       "    <tr>\n",
       "      <th>3</th>\n",
       "      <td>2019</td>\n",
       "      <td>2017</td>\n",
       "      <td>1007</td>\n",
       "      <td>Bibb County</td>\n",
       "      <td>Alabama</td>\n",
       "      <td>1.278288</td>\n",
       "      <td>8.2</td>\n",
       "      <td>62.0</td>\n",
       "      <td>8.1</td>\n",
       "      <td>1.2</td>\n",
       "      <td>43404.0</td>\n",
       "    </tr>\n",
       "    <tr>\n",
       "      <th>4</th>\n",
       "      <td>2019</td>\n",
       "      <td>2017</td>\n",
       "      <td>1009</td>\n",
       "      <td>Blount County</td>\n",
       "      <td>Alabama</td>\n",
       "      <td>1.559113</td>\n",
       "      <td>4.9</td>\n",
       "      <td>65.8</td>\n",
       "      <td>8.7</td>\n",
       "      <td>1.3</td>\n",
       "      <td>47412.0</td>\n",
       "    </tr>\n",
       "  </tbody>\n",
       "</table>\n",
       "</div>"
      ],
      "text/plain": [
       "   year data-year  cfips          county    state  microbusiness_density  \\\n",
       "0  2019      2017   1001  Autauga County  Alabama               2.986972   \n",
       "1  2019      2017   1003  Baldwin County  Alabama               7.370375   \n",
       "2  2019      2017   1005  Barbour County  Alabama               1.046068   \n",
       "3  2019      2017   1007     Bibb County  Alabama               1.278288   \n",
       "4  2019      2017   1009   Blount County  Alabama               1.559113   \n",
       "\n",
       "   pct_unemployed  pct_broadband  pct_college  pct_it_workers  median_hh_inc  \n",
       "0             5.2           76.6         14.5             1.3        55317.0  \n",
       "1             5.5           74.5         20.4             1.4        52562.0  \n",
       "2            12.4           57.2          7.6             0.5        33368.0  \n",
       "3             8.2           62.0          8.1             1.2        43404.0  \n",
       "4             4.9           65.8          8.7             1.3        47412.0  "
      ]
     },
     "execution_count": 97,
     "metadata": {},
     "output_type": "execute_result"
    }
   ],
   "source": [
    "# Inspect table\n",
    "df.head()"
   ]
  },
  {
   "cell_type": "code",
   "execution_count": 98,
   "metadata": {},
   "outputs": [
    {
     "data": {
      "text/html": [
       "<div>\n",
       "<style scoped>\n",
       "    .dataframe tbody tr th:only-of-type {\n",
       "        vertical-align: middle;\n",
       "    }\n",
       "\n",
       "    .dataframe tbody tr th {\n",
       "        vertical-align: top;\n",
       "    }\n",
       "\n",
       "    .dataframe thead th {\n",
       "        text-align: right;\n",
       "    }\n",
       "</style>\n",
       "<table border=\"1\" class=\"dataframe\">\n",
       "  <thead>\n",
       "    <tr style=\"text-align: right;\">\n",
       "      <th></th>\n",
       "      <th>year</th>\n",
       "      <th>data-year</th>\n",
       "      <th>cfips</th>\n",
       "      <th>county</th>\n",
       "      <th>state</th>\n",
       "      <th>microbusiness_density</th>\n",
       "      <th>pct_unemployed</th>\n",
       "      <th>pct_broadband</th>\n",
       "      <th>pct_college</th>\n",
       "      <th>pct_it_workers</th>\n",
       "      <th>median_hh_inc</th>\n",
       "    </tr>\n",
       "  </thead>\n",
       "  <tbody>\n",
       "    <tr>\n",
       "      <th>4948</th>\n",
       "      <td>2020</td>\n",
       "      <td>2018</td>\n",
       "      <td>35039</td>\n",
       "      <td>Rio Arriba County</td>\n",
       "      <td>New Mexico</td>\n",
       "      <td>2.526204</td>\n",
       "      <td>NaN</td>\n",
       "      <td>52.1</td>\n",
       "      <td>12.5</td>\n",
       "      <td>NaN</td>\n",
       "      <td>NaN</td>\n",
       "    </tr>\n",
       "    <tr>\n",
       "      <th>12045</th>\n",
       "      <td>2022</td>\n",
       "      <td>2020</td>\n",
       "      <td>48243</td>\n",
       "      <td>Jeff Davis County</td>\n",
       "      <td>Texas</td>\n",
       "      <td>5.362546</td>\n",
       "      <td>0.5</td>\n",
       "      <td>63.2</td>\n",
       "      <td>14.3</td>\n",
       "      <td>0.0</td>\n",
       "      <td>NaN</td>\n",
       "    </tr>\n",
       "  </tbody>\n",
       "</table>\n",
       "</div>"
      ],
      "text/plain": [
       "       year data-year  cfips             county       state  \\\n",
       "4948   2020      2018  35039  Rio Arriba County  New Mexico   \n",
       "12045  2022      2020  48243  Jeff Davis County       Texas   \n",
       "\n",
       "       microbusiness_density  pct_unemployed  pct_broadband  pct_college  \\\n",
       "4948                2.526204             NaN           52.1         12.5   \n",
       "12045               5.362546             0.5           63.2         14.3   \n",
       "\n",
       "       pct_it_workers  median_hh_inc  \n",
       "4948              NaN            NaN  \n",
       "12045             0.0            NaN  "
      ]
     },
     "execution_count": 98,
     "metadata": {},
     "output_type": "execute_result"
    }
   ],
   "source": [
    "# Check for any rows with NaN values\n",
    "df[df.isna().any(axis=1)]"
   ]
  },
  {
   "cell_type": "code",
   "execution_count": 99,
   "metadata": {},
   "outputs": [],
   "source": [
    "# Write out master table to csv\n",
    "df.to_csv('master.csv', index=False)"
   ]
  },
  {
   "cell_type": "code",
   "execution_count": null,
   "metadata": {},
   "outputs": [],
   "source": []
  }
 ],
 "metadata": {
  "kernelspec": {
   "display_name": "Python 3",
   "language": "python",
   "name": "python3"
  },
  "language_info": {
   "codemirror_mode": {
    "name": "ipython",
    "version": 3
   },
   "file_extension": ".py",
   "mimetype": "text/x-python",
   "name": "python",
   "nbconvert_exporter": "python",
   "pygments_lexer": "ipython3",
   "version": "3.11.0"
  },
  "orig_nbformat": 4,
  "vscode": {
   "interpreter": {
    "hash": "c261aea317cc0286b3b3261fbba9abdec21eaa57589985bb7a274bf54d6cc0a7"
   }
  }
 },
 "nbformat": 4,
 "nbformat_minor": 2
}
