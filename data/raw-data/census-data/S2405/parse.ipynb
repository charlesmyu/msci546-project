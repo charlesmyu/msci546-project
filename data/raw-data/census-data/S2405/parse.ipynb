{
 "cells": [
  {
   "cell_type": "code",
   "execution_count": 1,
   "metadata": {},
   "outputs": [],
   "source": [
    "import pandas as pd\n",
    "import csv\n",
    "import os"
   ]
  },
  {
   "attachments": {},
   "cell_type": "markdown",
   "metadata": {},
   "source": [
    "# Parsing Census Data\n",
    "The goal of this file is to parse data from census tables into an intermediate format so we can merge them into a master table later. \n",
    "\n",
    "## Steps:\n",
    "1. Duplicate the folder (i.e. `S2301`) within `census-data`, and rename the folder to the name of the Census table you are processing\n",
    "2. Empty the `raw` folder\n",
    "3. Download census data and place into `raw`. Each year of data should be in its own csv file. Rename each file into `<year>.csv`\n",
    "4. Update the transformation in the code block below to obtain the desired columns, and rename them if necessary\n",
    "    - For most tables, you will only need to lookup the column code of the feature you are looking to obtain, and match that to a readable name in `features`\n",
    "5. Verify the transformation is correct using the `df.head()` statement already placed there for you. If it looks good, the data is good!"
   ]
  },
  {
   "cell_type": "code",
   "execution_count": 2,
   "metadata": {},
   "outputs": [
    {
     "name": "stderr",
     "output_type": "stream",
     "text": [
      "C:\\Users\\charl\\AppData\\Local\\Temp\\ipykernel_18320\\2791312675.py:3: DtypeWarning: Columns (2,3,4,5,6,7,8,9,10,11,12,13,14,15,16,17,18,19,20,21,22,23,24,25,26,27,28,29,30,31,32,33,34,35,36,37,38,39,40,41,42,43,44,45,46,47,48,49,50,51,52,53,54,55,56,57,58,61,62,63,64,65,82,83,84,85,86,87,88,89,102,103,104,105,122,123,124,125,142,143,144,145,146,147,148,149,162,163,164,165,182,183,184,185,202,203,204,205,206,207,208,209,222,223,224,225,242,243,244,245,262,263,264,265,266,267,268,269,282,283,284,285,302,303,304,305,322,323,324,325,326,327,328,329,342,343,344,345) have mixed types. Specify dtype option on import or set low_memory=False.\n",
      "  df = pd.read_csv('./raw/' + filename)\n"
     ]
    },
    {
     "name": "stdout",
     "output_type": "stream",
     "text": [
      "   cfips pct_occupation_mbsa  pct_in_finance_industry  pct_in_arts_industry  \\\n",
      "1  01001                35.3                 5.573988              8.941606   \n",
      "2  01003                35.7                 7.611112             10.622494   \n",
      "3  01005                25.0                 3.671998              6.859653   \n",
      "4  01007                24.4                 4.405825              3.855097   \n",
      "5  01009                28.5                 5.102900              4.260992   \n",
      "\n",
      "   pct_in_public_admin_industry  \n",
      "1                     11.152123  \n",
      "2                      4.838764  \n",
      "3                      7.929714  \n",
      "4                      5.005507  \n",
      "5                      5.163704  \n"
     ]
    },
    {
     "name": "stderr",
     "output_type": "stream",
     "text": [
      "C:\\Users\\charl\\AppData\\Local\\Temp\\ipykernel_18320\\2791312675.py:3: DtypeWarning: Columns (2,3,4,5,6,7,8,9,10,11,12,13,14,15,16,17,18,19,20,21,22,23,24,25,26,27,28,29,30,31,32,33,34,35,36,37,38,39,40,41,42,43,44,45,46,47,48,49,50,51,52,53,54,55,56,57,58,61,62,63,64,65,66,67,68,69,70,71,72,73,74,75,76,77,78,79,80,81,162,163,164,165,166,167,168,169,170,171,172,173,174,175,176,177,178,179,180,181,262,263,264,265,266,267,268,269,270,271,272,273,274,275,276,277,278,279,280,281) have mixed types. Specify dtype option on import or set low_memory=False.\n",
      "  df = pd.read_csv('./raw/' + filename)\n"
     ]
    },
    {
     "name": "stdout",
     "output_type": "stream",
     "text": [
      "   cfips pct_occupation_mbsa  pct_in_finance_industry  pct_in_arts_industry  \\\n",
      "1  01001                38.7                 6.259327              8.124689   \n",
      "2  01003                36.3                 7.398880             10.083638   \n",
      "3  01005                25.9                 3.967890              5.917431   \n",
      "4  01007                21.9                 4.580812              4.395604   \n",
      "5  01009                29.9                 5.837159              4.623817   \n",
      "\n",
      "   pct_in_public_admin_industry  \n",
      "1                     10.251202  \n",
      "2                      5.066450  \n",
      "3                      7.098624  \n",
      "4                      5.272256  \n",
      "5                      4.586339  \n"
     ]
    },
    {
     "name": "stderr",
     "output_type": "stream",
     "text": [
      "C:\\Users\\charl\\AppData\\Local\\Temp\\ipykernel_18320\\2791312675.py:3: DtypeWarning: Columns (2,3,4,5,6,7,8,9,10,11,12,13,14,15,16,17,18,19,20,21,22,23,24,25,26,27,28,29,30,31,32,33,34,35,36,37,38,39,40,41,42,43,44,45,46,47,48,49,50,51,52,53,54,55,56,57,58,61,62,63,64,65,82,83,84,85,122,123,124,125,142,143,144,145,182,183,184,185,202,203,204,205,242,243,244,245,262,263,264,265,302,303,304,305,322,323,324,325) have mixed types. Specify dtype option on import or set low_memory=False.\n",
      "  df = pd.read_csv('./raw/' + filename)\n"
     ]
    },
    {
     "name": "stdout",
     "output_type": "stream",
     "text": [
      "   cfips pct_occupation_mbsa  pct_in_finance_industry  pct_in_arts_industry  \\\n",
      "1  01001                37.8                 5.978305              8.783949   \n",
      "2  01003                37.1                 7.520165              9.971501   \n",
      "3  01005                26.9                 3.720433              6.085820   \n",
      "4  01007                20.4                 5.341600              4.673900   \n",
      "5  01009                30.2                 6.063786              4.562668   \n",
      "\n",
      "   pct_in_public_admin_industry  \n",
      "1                      9.436424  \n",
      "2                      5.224469  \n",
      "3                      7.012956  \n",
      "4                      5.138905  \n",
      "5                      4.539855  \n",
      "   cfips pct_occupation_mbsa  pct_in_finance_industry  pct_in_arts_industry  \\\n",
      "1  01001                39.0                 5.488202              8.441823   \n",
      "2  01003                36.8                 7.597602              9.915155   \n",
      "3  01005                27.4                 3.916389              6.557942   \n",
      "4  01007                22.5                 5.010237              3.275924   \n",
      "5  01009                29.4                 5.986162              4.913295   \n",
      "\n",
      "   pct_in_public_admin_industry  \n",
      "1                     10.748576  \n",
      "2                      5.322574  \n",
      "3                      7.120707  \n",
      "4                      5.744911  \n",
      "5                      3.761604  \n"
     ]
    },
    {
     "name": "stderr",
     "output_type": "stream",
     "text": [
      "C:\\Users\\charl\\AppData\\Local\\Temp\\ipykernel_18320\\2791312675.py:3: DtypeWarning: Columns (2,3,4,5,6,7,8,9,10,11,12,13,14,15,16,17,18,19,20,21,22,23,24,25,26,27,28,29,30,31,32,33,34,35,36,37,38,39,40,41,42,43,44,45,46,47,48,49,50,51,52,53,54,55,56,57,58,59,62,63,64,65,82,83,84,85,114,115,116,117,122,123,124,125,142,143,144,145,174,175,176,177,182,183,184,185,202,203,204,205,234,235,236,237,242,243,244,245,262,263,264,265,294,295,296,297,302,303,304,305,322,323,324,325,354,355,356,357) have mixed types. Specify dtype option on import or set low_memory=False.\n",
      "  df = pd.read_csv('./raw/' + filename)\n"
     ]
    }
   ],
   "source": [
    "def process_file(filename: str):\n",
    "    year = filename[:filename.find(\".\")]\n",
    "    df = pd.read_csv('./raw/' + filename)\n",
    "    df['cfips'] = df['GEO_ID'].apply(lambda x: x[-5:])\n",
    "\n",
    "    # Map column codes to human-readable names. \n",
    "    # ==============\n",
    "    features = {\n",
    "        'S2405_C01_001E': 'workforce_size',\n",
    "        'S2405_C02_001E': 'pct_occupation_mbsa', # Percentage of workforce in a management, business, science, or arts related role (occupation)\n",
    "        'S2405_C01_009E': 'pct_in_finance_industry', # Percentage of workforce in the finance, real estate, or insurance industry \n",
    "        'S2405_C01_012E': 'pct_in_arts_industry', # Percentage of workforce in the arts, entertainment, recreation, accommodation, or food services industry \n",
    "        'S2405_C01_014E': 'pct_in_public_admin_industry' # Percentage of workforce in public administration industry\n",
    "    }\n",
    "\n",
    "    df = df.iloc[1:]\n",
    "    df = df.filter(items=['cfips'] + list(features.keys()))\n",
    "    df = df.rename(columns=features)\n",
    "    df['workforce_size'] = df['workforce_size'].apply(lambda x: float(x))\n",
    "    for feature in list(features.values())[2:]:\n",
    "        df[feature] = df[feature].apply(lambda x: float(x))\n",
    "        df[feature] = df[feature]/df['workforce_size'] * 100\n",
    "    df = df.filter(items=['cfips'] + list(features.values())[1:])\n",
    "    # ==============\n",
    "\n",
    "    print(df.head())\n",
    "    df.to_csv('./parsed/' + year + '.csv', index=False)\n",
    "\n",
    "for filename in os.listdir(\"./raw\"):\n",
    "    process_file(filename)"
   ]
  },
  {
   "cell_type": "code",
   "execution_count": null,
   "metadata": {},
   "outputs": [],
   "source": []
  }
 ],
 "metadata": {
  "kernelspec": {
   "display_name": "Python 3",
   "language": "python",
   "name": "python3"
  },
  "language_info": {
   "codemirror_mode": {
    "name": "ipython",
    "version": 3
   },
   "file_extension": ".py",
   "mimetype": "text/x-python",
   "name": "python",
   "nbconvert_exporter": "python",
   "pygments_lexer": "ipython3",
   "version": "3.11.0"
  },
  "orig_nbformat": 4,
  "vscode": {
   "interpreter": {
    "hash": "c261aea317cc0286b3b3261fbba9abdec21eaa57589985bb7a274bf54d6cc0a7"
   }
  }
 },
 "nbformat": 4,
 "nbformat_minor": 2
}
