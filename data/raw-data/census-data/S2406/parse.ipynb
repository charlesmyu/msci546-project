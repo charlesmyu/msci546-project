{
 "cells": [
  {
   "cell_type": "code",
   "execution_count": 1,
   "metadata": {},
   "outputs": [],
   "source": [
    "import pandas as pd\n",
    "import csv\n",
    "import os"
   ]
  },
  {
   "attachments": {},
   "cell_type": "markdown",
   "metadata": {},
   "source": [
    "# Parsing Census Data\n",
    "The goal of this file is to parse data from census tables into an intermediate format so we can merge them into a master table later. \n",
    "\n",
    "## Steps:\n",
    "1. Duplicate the folder (i.e. `S2301`) within `census-data`, and rename the folder to the name of the Census table you are processing\n",
    "2. Empty the `raw` folder\n",
    "3. Download census data and place into `raw`. Each year of data should be in its own csv file. Rename each file into `<year>.csv`\n",
    "4. Update the transformation in the code block below to obtain the desired columns, and rename them if necessary\n",
    "    - For most tables, you will only need to lookup the column code of the feature you are looking to obtain, and match that to a readable name in `features`\n",
    "5. Verify the transformation is correct using the `df.head()` statement already placed there for you. If it looks good, the data is good!"
   ]
  },
  {
   "cell_type": "code",
   "execution_count": 2,
   "metadata": {},
   "outputs": [
    {
     "name": "stdout",
     "output_type": "stream",
     "text": [
      "   cfips  pct_employed_at_self_employed pct_employed_at_non_profit  \\\n",
      "1  01001                            8.0                        7.8   \n",
      "2  01003                           11.4                        6.7   \n",
      "3  01005                            9.9                        4.9   \n",
      "4  01007                            8.1                        6.0   \n",
      "5  01009                            7.9                        5.6   \n",
      "\n",
      "  pct_employed_at_government  \n",
      "1                       20.2  \n",
      "2                       12.9  \n",
      "3                       19.1  \n",
      "4                       17.4  \n",
      "5                       11.9  \n",
      "   cfips  pct_employed_at_self_employed pct_employed_at_non_profit  \\\n",
      "1  01001                            8.0                        8.3   \n",
      "2  01003                           12.4                        6.7   \n",
      "3  01005                            9.6                        4.4   \n",
      "4  01007                            7.8                        6.1   \n",
      "5  01009                            8.2                        5.1   \n",
      "\n",
      "  pct_employed_at_government  \n",
      "1                       21.0  \n",
      "2                       13.2  \n",
      "3                       18.5  \n",
      "4                       16.0  \n",
      "5                       11.8  \n",
      "   cfips  pct_employed_at_self_employed pct_employed_at_non_profit  \\\n",
      "1  01001                            7.3                        8.3   \n",
      "2  01003                           12.7                        6.4   \n",
      "3  01005                            9.7                        3.9   \n",
      "4  01007                            7.5                        4.2   \n",
      "5  01009                            7.8                        4.7   \n",
      "\n",
      "  pct_employed_at_government  \n",
      "1                       20.3  \n",
      "2                       13.4  \n",
      "3                       19.2  \n",
      "4                       14.9  \n",
      "5                       12.8  \n",
      "   cfips  pct_employed_at_self_employed pct_employed_at_non_profit  \\\n",
      "1  01001                            7.1                        7.7   \n",
      "2  01003                           14.7                        5.7   \n",
      "3  01005                            8.9                        4.2   \n",
      "4  01007                            7.7                        3.5   \n",
      "5  01009                            9.2                        5.3   \n",
      "\n",
      "  pct_employed_at_government  \n",
      "1                       21.4  \n",
      "2                       13.5  \n",
      "3                       20.4  \n",
      "4                       14.1  \n",
      "5                       11.9  \n"
     ]
    }
   ],
   "source": [
    "def process_file(filename: str):\n",
    "    year = filename[:filename.find(\".\")]\n",
    "    df = pd.read_csv('./raw/' + filename)\n",
    "    df['cfips'] = df['GEO_ID'].apply(lambda x: x[-5:])\n",
    "\n",
    "    # Map column codes to human-readable names. \n",
    "    # ==============\n",
    "    features = {\n",
    "        'S2406_C03_001E': 'pct_self_employed_incorporated', \n",
    "        'S2406_C06_001E': 'pct_self_employed_not_incorporated', \n",
    "        'S2406_C04_001E': 'pct_employed_at_non_profit',\n",
    "        'S2406_C05_001E': 'pct_employed_at_government'\n",
    "    }\n",
    "\n",
    "    df = df.iloc[1:]\n",
    "    df = df.filter(items=['cfips'] + list(features.keys()))\n",
    "    df = df.rename(columns=features)\n",
    "    df['pct_self_employed_incorporated'] = df['pct_self_employed_incorporated'].apply(lambda x: float(x))\n",
    "    df['pct_self_employed_not_incorporated'] = df['pct_self_employed_not_incorporated'].apply(lambda x: float(x))\n",
    "    df['pct_employed_at_self_employed'] = df['pct_self_employed_incorporated'] + df['pct_self_employed_not_incorporated']\n",
    "    df = df.filter(items=['cfips', 'pct_employed_at_self_employed', 'pct_employed_at_non_profit', 'pct_employed_at_government'])\n",
    "    # ==============\n",
    "\n",
    "    print(df.head())\n",
    "    df.to_csv('./parsed/' + year + '.csv', index=False)\n",
    "\n",
    "for filename in os.listdir(\"./raw\"):\n",
    "    process_file(filename)"
   ]
  },
  {
   "cell_type": "code",
   "execution_count": null,
   "metadata": {},
   "outputs": [],
   "source": []
  }
 ],
 "metadata": {
  "kernelspec": {
   "display_name": "Python 3",
   "language": "python",
   "name": "python3"
  },
  "language_info": {
   "codemirror_mode": {
    "name": "ipython",
    "version": 3
   },
   "file_extension": ".py",
   "mimetype": "text/x-python",
   "name": "python",
   "nbconvert_exporter": "python",
   "pygments_lexer": "ipython3",
   "version": "3.11.0"
  },
  "orig_nbformat": 4,
  "vscode": {
   "interpreter": {
    "hash": "c261aea317cc0286b3b3261fbba9abdec21eaa57589985bb7a274bf54d6cc0a7"
   }
  }
 },
 "nbformat": 4,
 "nbformat_minor": 2
}
