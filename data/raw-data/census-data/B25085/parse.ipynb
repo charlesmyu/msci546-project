{
 "cells": [
  {
   "cell_type": "code",
   "execution_count": 25,
   "metadata": {},
   "outputs": [],
   "source": [
    "import pandas as pd\n",
    "import csv\n",
    "import os\n",
    "import math"
   ]
  },
  {
   "attachments": {},
   "cell_type": "markdown",
   "metadata": {},
   "source": [
    "# Parsing Census Data\n",
    "The goal of this file is to parse data from census tables into an intermediate format so we can merge them into a master table later. \n",
    "\n",
    "## Steps:\n",
    "1. Duplicate the folder (i.e. `S2301`) within `census-data`, and rename the folder to the name of the Census table you are processing\n",
    "2. Empty the `raw` folder\n",
    "3. Download census data and place into `raw`. Each year of data should be in its own csv file. Rename each file into `<year>.csv`\n",
    "4. Update the transformation in the code block below to obtain the desired columns, and rename them if necessary\n",
    "    - For most tables, you will only need to lookup the column code of the feature you are looking to obtain, and match that to a readable name in `features`\n",
    "5. Verify the transformation is correct using the `df.head()` statement already placed there for you. If it looks good, the data is good!"
   ]
  },
  {
   "cell_type": "code",
   "execution_count": 26,
   "metadata": {},
   "outputs": [
    {
     "name": "stdout",
     "output_type": "stream",
     "text": [
      "   cfips  pct_house_price_gt1mill  pct_house_price_500k_1mill  \\\n",
      "1  01001                 0.000000                    0.000000   \n",
      "2  01003                 3.076923                    7.065527   \n",
      "3  01005                 2.631579                    0.000000   \n",
      "4  01007                 0.000000                   19.801980   \n",
      "5  01009                 2.127660                    0.000000   \n",
      "\n",
      "   pct_house_price_250k_500k  pct_house_price_100k_250k  \n",
      "1                  14.761905                  44.761905  \n",
      "2                  32.877493                  42.962963  \n",
      "3                  18.859649                  41.666667  \n",
      "4                   0.000000                  44.554455  \n",
      "5                  14.893617                  20.744681  \n",
      "   cfips  pct_house_price_gt1mill  pct_house_price_500k_1mill  \\\n",
      "1  01001                 0.000000                    0.000000   \n",
      "2  01003                 1.095008                    6.892110   \n",
      "3  01005                 2.390438                    0.000000   \n",
      "4  01007                 0.000000                   18.253968   \n",
      "5  01009                 2.604167                    0.000000   \n",
      "\n",
      "   pct_house_price_250k_500k  pct_house_price_100k_250k  \n",
      "1                  14.184397                  58.510638  \n",
      "2                  40.901771                  38.099839  \n",
      "3                   7.569721                  34.262948  \n",
      "4                   0.000000                  39.682540  \n",
      "5                  13.020833                  11.979167  \n",
      "   cfips  pct_house_price_gt1mill  pct_house_price_500k_1mill  \\\n",
      "1  01001                 0.000000                    0.000000   \n",
      "2  01003                 0.424178                    4.984093   \n",
      "3  01005                 2.247191                    4.119850   \n",
      "4  01007                 0.000000                   22.826087   \n",
      "5  01009                 2.922078                    0.000000   \n",
      "\n",
      "   pct_house_price_250k_500k  pct_house_price_100k_250k  \n",
      "1                   8.226221                  58.354756  \n",
      "2                  36.938848                  47.826087  \n",
      "3                  11.985019                  37.827715  \n",
      "4                   0.000000                  22.826087  \n",
      "5                   0.000000                  22.402597  \n",
      "   cfips  pct_house_price_gt1mill  pct_house_price_500k_1mill  \\\n",
      "1  01001                      0.0                    0.000000   \n",
      "2  01003                      0.0                    4.295775   \n",
      "3  01005                      0.0                    3.246753   \n",
      "4  01007                      0.0                   21.176471   \n",
      "5  01009                      0.0                    0.000000   \n",
      "\n",
      "   pct_house_price_250k_500k  pct_house_price_100k_250k  \n",
      "1                   6.006006                  52.552553  \n",
      "2                  41.197183                  48.309859  \n",
      "3                  20.129870                  28.246753  \n",
      "4                   0.000000                  25.882353  \n",
      "5                   0.000000                  23.720930  \n"
     ]
    }
   ],
   "source": [
    "def process_file(filename: str):\n",
    "    year = filename[:filename.find(\".\")]\n",
    "    df = pd.read_csv('./raw/' + filename)\n",
    "    df['cfips'] = df['GEO_ID'].apply(lambda x: x[-5:])\n",
    "\n",
    "    # Map column codes to human-readable names. \n",
    "    # ==============\n",
    "    features = {\n",
    "        'B25085_001E': 'total', \n",
    "        'B25085_027E': 'gt2.0', \n",
    "        'B25085_026E': '1.5-2.0', \n",
    "        'B25085_025E': '1.0-1.5',\n",
    "        'B25085_024E': '0.75-1.0',\n",
    "        'B25085_023E': '0.5-0.75',\n",
    "        'B25085_022E': '0.4-0.5',\n",
    "        'B25085_021E': '0.3-0.4',\n",
    "        'B25085_020E': '0.25-0.3',\n",
    "        'B25085_019E': '0.2-0.25',\n",
    "        'B25085_018E': '0.175-0.2',\n",
    "        'B25085_017E': '0.15-0.175',\n",
    "        'B25085_016E': '0.125-0.15',\n",
    "        'B25085_015E': '0.1-0.125',\n",
    "    }\n",
    "\n",
    "    df = df.iloc[1:]\n",
    "    df = df.filter(items=['cfips'] + list(features.keys()))\n",
    "    df = df.rename(columns=features)\n",
    "    for feature in features.values():\n",
    "        df[feature] = df[feature].apply(lambda x: int(x))\n",
    "    df['pct_house_price_gt1mill'] = (df['gt2.0'] + df['1.5-2.0'] + df['1.0-1.5'])/df['total'] * 100\n",
    "    df['pct_house_price_500k_1mill'] = (df['0.5-0.75'] + df['0.75-1.0'])/df['total'] * 100\n",
    "    df['pct_house_price_250k_500k'] = (df['0.25-0.3'] + df['0.3-0.4'] + df['0.4-0.5'])/df['total'] * 100\n",
    "    df['pct_house_price_100k_250k'] = (df['0.1-0.125'] + df['0.125-0.15'] + df['0.15-0.175'] + df['0.175-0.2'] + df['0.2-0.25'])/df['total'] * 100\n",
    "    df = df.filter(items=['cfips', 'pct_house_price_gt1mill', 'pct_house_price_500k_1mill', 'pct_house_price_250k_500k', 'pct_house_price_100k_250k'])\n",
    "    for feature in ['pct_house_price_gt1mill', 'pct_house_price_500k_1mill', 'pct_house_price_250k_500k', 'pct_house_price_100k_250k']:\n",
    "        df[feature] = df[feature].apply(lambda x: 0 if math.isnan(x) else x)\n",
    "    # ==============\n",
    "\n",
    "    print(df.head())\n",
    "    df.to_csv('./parsed/' + year + '.csv', index=False)\n",
    "\n",
    "for filename in os.listdir(\"./raw\"):\n",
    "    process_file(filename)"
   ]
  },
  {
   "cell_type": "code",
   "execution_count": null,
   "metadata": {},
   "outputs": [],
   "source": []
  }
 ],
 "metadata": {
  "kernelspec": {
   "display_name": "Python 3",
   "language": "python",
   "name": "python3"
  },
  "language_info": {
   "codemirror_mode": {
    "name": "ipython",
    "version": 3
   },
   "file_extension": ".py",
   "mimetype": "text/x-python",
   "name": "python",
   "nbconvert_exporter": "python",
   "pygments_lexer": "ipython3",
   "version": "3.11.0"
  },
  "orig_nbformat": 4,
  "vscode": {
   "interpreter": {
    "hash": "c261aea317cc0286b3b3261fbba9abdec21eaa57589985bb7a274bf54d6cc0a7"
   }
  }
 },
 "nbformat": 4,
 "nbformat_minor": 2
}
